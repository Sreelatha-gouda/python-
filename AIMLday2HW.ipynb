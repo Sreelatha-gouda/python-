{
 "cells": [
  {
   "cell_type": "code",
   "execution_count": 3,
   "id": "035a7ec5-b485-4b44-9690-143b7f655c1f",
   "metadata": {},
   "outputs": [
    {
     "name": "stdin",
     "output_type": "stream",
     "text": [
      "enter a value 5\n"
     ]
    },
    {
     "name": "stdout",
     "output_type": "stream",
     "text": [
      "1\n",
      "2\n",
      "6\n",
      "24\n",
      "120\n"
     ]
    }
   ],
   "source": [
    "#program to find a factorial of a number\n",
    "n=int(input(\"enter a value\"))\n",
    "factorial=1\n",
    "for i in range(1,n+1):\n",
    "    factorial=factorial *i\n",
    "    print(factorial)\n"
   ]
  },
  {
   "cell_type": "code",
   "execution_count": 16,
   "id": "7aef8d84-453c-4ae9-96b9-a47eab29404a",
   "metadata": {},
   "outputs": [
    {
     "name": "stdin",
     "output_type": "stream",
     "text": [
      "enter the palindrome malayalam\n"
     ]
    },
    {
     "name": "stdout",
     "output_type": "stream",
     "text": [
      "yes\n"
     ]
    }
   ],
   "source": [
    "#to check whether string is palindrome or not\n",
    "s=input(\"enter the palindrome\")\n",
    "if(\"string is palindrome\"):\n",
    "        print(\"yes\")\n",
    "else:\n",
    "    print(\"no\")"
   ]
  },
  {
   "cell_type": "code",
   "execution_count": 26,
   "id": "e776413d-67d1-4ccd-9547-19751adfe4da",
   "metadata": {},
   "outputs": [
    {
     "name": "stdout",
     "output_type": "stream",
     "text": [
      "prime numbers between 0 and 10 are:\n",
      "3\n",
      "5\n",
      "5\n",
      "5\n",
      "7\n",
      "7\n",
      "7\n",
      "7\n",
      "7\n",
      "9\n"
     ]
    }
   ],
   "source": [
    "#program for prime numbers\n",
    "a=0\n",
    "b=10\n",
    "print(\"prime numbers between\",a,\"and\",b,\"are:\")\n",
    "for num in range(a,b + 1):\n",
    "    if num > 1:\n",
    "        for i in range(2,num):\n",
    "            if(num % i)== 0:\n",
    "                break\n",
    "            else:\n",
    "                print(num)"
   ]
  },
  {
   "cell_type": "code",
   "execution_count": 37,
   "id": "35d8672e-f956-4b9e-a9db-d1ef5364cb20",
   "metadata": {},
   "outputs": [
    {
     "name": "stdout",
     "output_type": "stream",
     "text": [
      "54321\n"
     ]
    }
   ],
   "source": [
    "#program to reverse a digits of numbers\n",
    "num=12345\n",
    "print(str(num)[::-1])"
   ]
  },
  {
   "cell_type": "code",
   "execution_count": 47,
   "id": "431b9531-bea2-4b0d-aa7a-fdb84dc33671",
   "metadata": {},
   "outputs": [
    {
     "name": "stdin",
     "output_type": "stream",
     "text": [
      "enter the first number 12\n",
      "enter the second number 5\n"
     ]
    },
    {
     "name": "stdout",
     "output_type": "stream",
     "text": [
      "17\n",
      "7\n",
      "60\n",
      "2.4\n",
      "2\n"
     ]
    }
   ],
   "source": [
    "#code to perform the arthemetic operations\n",
    "num1=input(\"enter the first number\")\n",
    "num2=input(\"enter the second number\")\n",
    "num=int(num1)+int(num2)\n",
    "print(num)\n",
    "num=int(num1)-int(num2)\n",
    "print(num)\n",
    "num=int(num1)*int(num2)\n",
    "print(num)\n",
    "num=int(num1)/int(num2)\n",
    "print(num)\n",
    "num=int(num1)%int(num2)\n",
    "print(num)"
   ]
  },
  {
   "cell_type": "code",
   "execution_count": 52,
   "id": "04e1b9b2-2e1d-4971-9c96-0b133c15ddfd",
   "metadata": {},
   "outputs": [
    {
     "name": "stdin",
     "output_type": "stream",
     "text": [
      " #\n"
     ]
    },
    {
     "name": "stdout",
     "output_type": "stream",
     "text": [
      "special character\n"
     ]
    }
   ],
   "source": [
    "#identyfying the input character by the user as lower case,upper case,numerics or special characters\n",
    "i=input()\n",
    "if i.islower():\n",
    "    print(\"lowercase letter\")\n",
    "    print(i)\n",
    "elif i.isupper():\n",
    "    print(\"uppercase letter\")\n",
    "    print(i)\n",
    "elif i.isdigit():\n",
    "    print(\"numeric\")\n",
    "    print(i)\n",
    "else:\n",
    "    print(\"special character\")\n"
   ]
  },
  {
   "cell_type": "code",
   "execution_count": null,
   "id": "12eee3d7-0f71-42d2-b8e1-bba8266a2d9d",
   "metadata": {},
   "outputs": [],
   "source": []
  }
 ],
 "metadata": {
  "kernelspec": {
   "display_name": "Python 3 (ipykernel)",
   "language": "python",
   "name": "python3"
  },
  "language_info": {
   "codemirror_mode": {
    "name": "ipython",
    "version": 3
   },
   "file_extension": ".py",
   "mimetype": "text/x-python",
   "name": "python",
   "nbconvert_exporter": "python",
   "pygments_lexer": "ipython3",
   "version": "3.12.3"
  }
 },
 "nbformat": 4,
 "nbformat_minor": 5
}
