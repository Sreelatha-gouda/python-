{
 "cells": [
  {
   "cell_type": "code",
   "execution_count": 8,
   "id": "f0b49d91-5f2b-4bc6-831a-30b6da56bd63",
   "metadata": {},
   "outputs": [
    {
     "name": "stdin",
     "output_type": "stream",
     "text": [
      " mom\n"
     ]
    },
    {
     "name": "stdout",
     "output_type": "stream",
     "text": [
      "palindrome\n"
     ]
    }
   ],
   "source": [
    "a=input()\n",
    "flag = 0\n",
    "for i in range(0,int(len(a)/2)):\n",
    "    if a[i] != a[(i+1)*-1]:\n",
    "        flag = 1\n",
    "        break\n",
    "    if flag:\n",
    "     print(\"not palindrome\")\n",
    "    else:\n",
    "     print(\"palindrome\")"
   ]
  },
  {
   "cell_type": "code",
   "execution_count": 27,
   "id": "87ed0fed-0182-481d-9107-99a9a6d50696",
   "metadata": {},
   "outputs": [
    {
     "name": "stdin",
     "output_type": "stream",
     "text": [
      " 10\n"
     ]
    },
    {
     "name": "stdout",
     "output_type": "stream",
     "text": [
      "A is not prime\n"
     ]
    }
   ],
   "source": [
    "a=int(input())\n",
    "\n",
    "for i in range(2,int(a/2)):\n",
    "    if a%i==0:\n",
    "        print(\"A is not prime\")\n",
    "        break\n",
    "    else:\n",
    "        print(\"A is prime number\")\n",
    "        break\n",
    "            \n",
    "      "
   ]
  },
  {
   "cell_type": "markdown",
   "id": "71555f98-1422-4e1c-b5c0-e12a3741a2ad",
   "metadata": {},
   "source": [
    "file handling\n",
    "\n",
    "create\n",
    "read\n",
    "update\n",
    "delete\n",
    "\n",
    "CRUD operation"
   ]
  },
  {
   "cell_type": "code",
   "execution_count": null,
   "id": "81bce74c-a674-408a-a498-42526f8a93aa",
   "metadata": {},
   "outputs": [],
   "source": [
    "if_name_== '_main_':\n",
    "filename = \"example.txt\"\n",
    "new_filename = \"new_example>txt\"\n",
    "\n",
    "create_file(filename)\n",
    "read_file(filename)\n",
    "append_file(filename, \"this is some additional text.\\n\")\n",
    "read_fi;e(filename,new_filename)\n",
    "read_file(new_filename)\n",
    "#delete_file(new_filename)\n",
    "\n"
   ]
  },
  {
   "cell_type": "code",
   "execution_count": 67,
   "id": "19425c8a-ab71-4bc1-9a25-3030f4cd71bf",
   "metadata": {},
   "outputs": [],
   "source": [
    "import os\n",
    "\n",
    "with open(\"file1.txt\",'w') as f:\n",
    "    f.write(\"This is first txt in file\\n\")\n",
    "    f.close()\n",
    "\n"
   ]
  },
  {
   "cell_type": "code",
   "execution_count": 68,
   "id": "594bc225-4bb2-42a7-9ee6-fe53e26cd8c4",
   "metadata": {},
   "outputs": [],
   "source": [
    "import os\n",
    "\n",
    "with open(\"file1.txt\",'a') as f:\n",
    "    f.write(\"This is second text in file\")\n",
    "    f.close()"
   ]
  },
  {
   "cell_type": "code",
   "execution_count": 40,
   "id": "6cc1704e-4c7d-4afc-9942-b38a407e5b5c",
   "metadata": {},
   "outputs": [],
   "source": [
    "import os\n",
    "os.remove(\"file1.txt\")"
   ]
  },
  {
   "cell_type": "code",
   "execution_count": 69,
   "id": "e97a61b2-8e29-4ba4-81e6-82add18b801e",
   "metadata": {},
   "outputs": [
    {
     "name": "stdout",
     "output_type": "stream",
     "text": [
      "This is first txt in file\n",
      "111\n",
      "This is second text in file\n",
      "111\n"
     ]
    }
   ],
   "source": [
    "import os\n",
    "\n",
    "with open(\"file1.txt\",'r') as f:\n",
    "    for a in f.read().split(\"\\n\"):\n",
    "        print(a)\n",
    "        print(\"111\")\n",
    "        \n",
    "    f.close()"
   ]
  },
  {
   "cell_type": "code",
   "execution_count": 72,
   "id": "16d6e9fe-9db0-4f51-8aec-49d5436f73a0",
   "metadata": {},
   "outputs": [
    {
     "name": "stdout",
     "output_type": "stream",
     "text": [
      "I am sree and a student\n",
      "sree\n"
     ]
    }
   ],
   "source": [
    "import os\n",
    "\n",
    "with open(\"ai154.txt\",'w') as f:\n",
    "    f.write(\"I am sree and a student\")\n",
    "    f.close()\n",
    "    with open(\"ai154.txt\",'r') as f:\n",
    "        for a in f.read().split(\"\\n\"):\n",
    "            print(a)\n",
    "            print(\"sree\")\n",
    "            f.close()\n",
    "            "
   ]
  },
  {
   "cell_type": "code",
   "execution_count": 77,
   "id": "ec6e79f3-29f0-4294-9eb4-d9a86339db82",
   "metadata": {},
   "outputs": [
    {
     "name": "stdin",
     "output_type": "stream",
     "text": [
      "enter the fruit name apple banana mango grapes\n"
     ]
    }
   ],
   "source": [
    "import os\n",
    "\n",
    "with open(\"fruitname.txt\",'w') as f:\n",
    "    f.write (input(\"enter the fruit name\"))\n",
    "    f.close()"
   ]
  },
  {
   "cell_type": "code",
   "execution_count": null,
   "id": "c01017a5-fd54-419a-bf8e-300cde512830",
   "metadata": {},
   "outputs": [],
   "source": []
  },
  {
   "cell_type": "code",
   "execution_count": 84,
   "id": "cfc1ab0a-cd58-49ca-99ba-45b070421037",
   "metadata": {},
   "outputs": [
    {
     "ename": "SyntaxError",
     "evalue": "cannot assign to literal here. Maybe you meant '==' instead of '='? (2177690744.py, line 6)",
     "output_type": "error",
     "traceback": [
      "\u001b[1;36m  Cell \u001b[1;32mIn[84], line 6\u001b[1;36m\u001b[0m\n\u001b[1;33m    1 = f.read()\u001b[0m\n\u001b[1;37m    ^\u001b[0m\n\u001b[1;31mSyntaxError\u001b[0m\u001b[1;31m:\u001b[0m cannot assign to literal here. Maybe you meant '==' instead of '='?\n"
     ]
    }
   ],
   "source": [
    "import os\n",
    "\n",
    "s=input(\"enter the fruitname to be replaced\")\n",
    "t=input(\"enter the fruitname that will replace\")\n",
    "f = open(\"fruitname.txt\",\"r+\")\n",
    "1 = f.read()\n",
    "for i in 1:\n",
    "    if s in i:\n",
    "        replacement=i.replace(s,t)\n",
    "        1 = replacement\n",
    "        c += 1\n",
    "        f.close()\n",
    "\n",
    "    "
   ]
  },
  {
   "cell_type": "code",
   "execution_count": null,
   "id": "5864c614-1a82-40b3-9139-5b271feae834",
   "metadata": {},
   "outputs": [],
   "source": []
  }
 ],
 "metadata": {
  "kernelspec": {
   "display_name": "Python 3 (ipykernel)",
   "language": "python",
   "name": "python3"
  },
  "language_info": {
   "codemirror_mode": {
    "name": "ipython",
    "version": 3
   },
   "file_extension": ".py",
   "mimetype": "text/x-python",
   "name": "python",
   "nbconvert_exporter": "python",
   "pygments_lexer": "ipython3",
   "version": "3.12.3"
  }
 },
 "nbformat": 4,
 "nbformat_minor": 5
}
