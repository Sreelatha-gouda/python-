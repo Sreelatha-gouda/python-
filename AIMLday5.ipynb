{
 "cells": [
  {
   "cell_type": "markdown",
   "id": "3e71fc4f-b38c-4c30-81c8-2ce07186a4f5",
   "metadata": {},
   "source": [
    "#create a laptop class\n",
    "with variable as processor,Ram and storage\n",
    "\n",
    "create function to print the configuration of the laptops.\n",
    "\n",
    "create 3 objects of laptop with different brand and display its configuration "
   ]
  },
  {
   "cell_type": "code",
   "execution_count": 25,
   "id": "61d79681-6b6f-4ad7-a943-6d6ce2ee7f84",
   "metadata": {},
   "outputs": [
    {
     "name": "stdout",
     "output_type": "stream",
     "text": [
      "0\n",
      "20\n"
     ]
    }
   ],
   "source": [
    "#oops concept\n",
    "\n",
    "class laptop:\n",
    "    a=0\n",
    "    def config(self):\n",
    "        print(\"this laptop has i5 17gb ram its 1TB SSD\")\n",
    "    def __init__(self,value):\n",
    "            self.b=value\n",
    "acer = laptop(20)\n",
    "print(acer.a)\n",
    "print(acer.b)"
   ]
  },
  {
   "cell_type": "code",
   "execution_count": 20,
   "id": "840cb11a-8a46-4ca7-85d9-b14fbfa67d99",
   "metadata": {},
   "outputs": [
    {
     "name": "stdout",
     "output_type": "stream",
     "text": [
      "configuration of the laptop is\n",
      "processor i5\n",
      "ram 8\n",
      "storage 512\n"
     ]
    }
   ],
   "source": [
    "class laptop:\n",
    "    def __init__(self,p,r,s):\n",
    "        self.processor=p\n",
    "        self.ram=r\n",
    "        self.storage=s\n",
    "    def config(self):\n",
    "        print(\"configuration of the laptop is\")\n",
    "        print(\"processor\",self.processor)\n",
    "        print(\"ram\",self.ram)\n",
    "        print(\"storage\",self.storage)\n",
    "\n",
    "if __name__==\"__main__\":\n",
    "    hp = laptop(\"i5\",8,512)\n",
    "    hp.config()"
   ]
  },
  {
   "cell_type": "markdown",
   "id": "92d8a149-48c7-43f9-b61b-18223ee03197",
   "metadata": {},
   "source": [
    "create a class student which can hold the marks in 5 subjects and also \n",
    "create a functions to print the marks and calculate the avg of 5 subjects"
   ]
  },
  {
   "cell_type": "code",
   "execution_count": 1,
   "id": "0b60a953-c63b-4c13-9da3-edd419d87779",
   "metadata": {},
   "outputs": [
    {
     "name": "stdout",
     "output_type": "stream",
     "text": [
      "marks of 5 stuents\n",
      "marks of english 99\n",
      "marks of maths 98\n",
      "marks of science 97\n",
      "marks of socialstudies 96\n",
      "marks ofkannada 95\n",
      "116.4\n"
     ]
    }
   ],
   "source": [
    "class student:\n",
    "    def __init__(self,E,M,SC,SS,K):\n",
    "        self.english=E\n",
    "        self.maths=M\n",
    "        self.science=SC\n",
    "        self.socialstudies=SS\n",
    "        self.kannada=K\n",
    "    def marks(self):\n",
    "            print(\"marks of 5 stuents\")\n",
    "            print(\"marks of english\",self.english)\n",
    "            print(\"marks of maths\",self.maths)\n",
    "            print(\"marks of science\",self.science)\n",
    "            print(\"marks of socialstudies\",self.socialstudies)\n",
    "            print(\"marks ofkannada\",self.kannada)\n",
    "    def avgmarks(self):\n",
    "        total=(self.english+self.maths+self.science+self.science+self.socialstudies+self.kannada)\n",
    "        avg= total/5\n",
    "        print(avg)\n",
    "            \n",
    "\n",
    "if __name__==\"__main__\":\n",
    "    student1=student(99,98,97,96,95)\n",
    "    student1.marks()\n",
    "    student1.avgmarks()\n",
    "    "
   ]
  },
  {
   "cell_type": "code",
   "execution_count": 48,
   "id": "ef4ac488-80a0-4afa-8c7b-9631cb266876",
   "metadata": {},
   "outputs": [
    {
     "name": "stdout",
     "output_type": "stream",
     "text": [
      "1\n",
      "2\n",
      "3\n"
     ]
    }
   ],
   "source": [
    "#access modifiers\n",
    "#public normal\n",
    "#protected_\n",
    "#private_\n",
    "\n",
    "class demo:\n",
    "    def __init__(self,a,b,c):\n",
    "        self.x=a\n",
    "        self._y=b\n",
    "        self.__z=c\n",
    "    def output_z(self):\n",
    "        print(self.__z)\n",
    "    def output_y(self):\n",
    "        print(self._y)\n",
    "    def output_x(self):\n",
    "         print(self.x)\n",
    "\n",
    "ob1= demo(1,2,3)\n",
    "ob1.output_x()\n",
    "ob1.output_y()\n",
    "ob1.output_z()\n",
    "\n"
   ]
  },
  {
   "cell_type": "code",
   "execution_count": 13,
   "id": "de5e1002-d227-4c25-9bfa-99b6233911f3",
   "metadata": {},
   "outputs": [
    {
     "name": "stdout",
     "output_type": "stream",
     "text": [
      "this is fun1\n",
      "this is fun2\n",
      "this is fun3\n",
      "this is fun4\n",
      "this is fun5\n"
     ]
    }
   ],
   "source": [
    "class a:\n",
    "    def fun1(self):\n",
    "        print(\"this is fun1\")\n",
    "    def fun2(self):\n",
    "        print(\"this is fun2\")\n",
    "class b(a):\n",
    "    def fun3(self):\n",
    "        print(\"this is fun3\")\n",
    "    def fun4(self):\n",
    "        print(\"this is fun4\")\n",
    "class c(b,a):\n",
    "    def fun5(self):\n",
    "        print(\"this is fun5\")\n",
    "    def fun6(self):\n",
    "        print(\"this is fun6\")       \n",
    "        \n",
    "if __name__==\"__main__\":\n",
    "    ob1=a()\n",
    "    ob2=b()\n",
    "    ob3=c()\n",
    "    ob1.fun1()\n",
    "    ob1.fun2()\n",
    "    ob2.fun3()\n",
    "    ob2.fun4()\n",
    "    ob3.fun5()\n",
    "    \n",
    "    \n",
    "    \n",
    "\n",
    "    "
   ]
  },
  {
   "cell_type": "code",
   "execution_count": 39,
   "id": "0cf24882-6652-4936-b24c-bb42eb873a87",
   "metadata": {},
   "outputs": [
    {
     "name": "stdout",
     "output_type": "stream",
     "text": [
      "constructor of class c\n",
      "constructor of class c with 1 5\n",
      "constructor of class c with 1 2\n"
     ]
    }
   ],
   "source": [
    "class c:\n",
    "    def __init__(self):\n",
    "        print(\"constructor of class c\")\n",
    "    def abc(self,a,b=5):\n",
    "        print(\"constructor of class c with\",a,b)\n",
    "\n",
    "ob=c()\n",
    "ob.abc(1)\n",
    "ob.abc(1,2)\n",
    "    "
   ]
  },
  {
   "cell_type": "code",
   "execution_count": 38,
   "id": "3f080cb1-36c9-4fa0-ade9-090e3466dad0",
   "metadata": {},
   "outputs": [
    {
     "name": "stdout",
     "output_type": "stream",
     "text": [
      "configuration of the laptop\n",
      "professional laptop: 10hrs\n",
      "v1 i5\n",
      "v2 17\n",
      "v3 280\n",
      "configuration of the laptop\n",
      " graohic card: 5gb\n",
      "v1 i5\n",
      "v2 17\n",
      "v3 280\n"
     ]
    }
   ],
   "source": [
    "class laptop:\n",
    "    def __init__(self,v1,v2,v3):\n",
    "        self.processor=v1\n",
    "        self.ram=v2\n",
    "        self.storage=v3\n",
    "    def config(self):\n",
    "        print(\"v1\",self.processor)\n",
    "        print(\"v2\",self.ram)\n",
    "        print(\"v3\",self.storage)\n",
    "\n",
    "class professional(laptop):\n",
    "    def __init__(self,battery,v1,v2,v3):\n",
    "        self.batterybackup=battery\n",
    "        super().__init__(v1,v2,v3)\n",
    "    def config(self):\n",
    "        print(\"configuration of the laptop\")\n",
    "        print(\"professional laptop:\",self.batterybackup)\n",
    "        super().config()\n",
    "       # self()._(v1,v2,v3)\n",
    "\n",
    "class gaming(laptop):\n",
    "    def __init__(self,graphiccard,v1,v2,v3):\n",
    "        self.graphic=graphiccard\n",
    "        super().__init__(v1,v2,v3)\n",
    "    def config(self):\n",
    "        print(\"configuration of the laptop\")\n",
    "        print(\" graohic card:\",self.graphic)\n",
    "        super().config()\n",
    "\n",
    "if __name__==\"__main__\":\n",
    "    d1=laptop(\"i5\",17,280)\n",
    "    d2=professional(\"10hrs\",\"i5\",17,280)\n",
    "    d3=gaming(\"5gb\",\"i5\",17,280)\n",
    "\n",
    "    d2.config()\n",
    "    d3.config()\n"
   ]
  },
  {
   "cell_type": "code",
   "execution_count": 41,
   "id": "7be791f2-f369-462d-bd4f-38ad4675e7e1",
   "metadata": {},
   "outputs": [
    {
     "name": "stdout",
     "output_type": "stream",
     "text": [
      "constructor of class c\n",
      "1 2\n"
     ]
    }
   ],
   "source": [
    "class c:\n",
    "    def __init__(self,a,b):\n",
    "        print(\"constructor of class c\")\n",
    "        self.x=a\n",
    "        self.y=b\n",
    "        print(self.x,self.y)\n",
    "\n",
    "obj=c(1,2)\n",
    "    \n",
    "\n",
    "\n"
   ]
  },
  {
   "cell_type": "code",
   "execution_count": 2,
   "id": "1dcd3d69-0228-43c6-a911-cf823e5f2a07",
   "metadata": {},
   "outputs": [
    {
     "name": "stdout",
     "output_type": "stream",
     "text": [
      "ticket booked\n",
      "ticket booked fare price will be: 6550\n"
     ]
    }
   ],
   "source": [
    "class ticket:\n",
    "    def __init__(self,d):\n",
    "        self.distance =int(d)\n",
    "        self.fareprice=None\n",
    "\n",
    "class gen(ticket):\n",
    "    def __init__(self,d):\n",
    "        super().__init__(d)\n",
    "    def print_ticket(self):\n",
    "        self.fareprice=50+(self.distance*2)\n",
    "        print(\"ticket booked\")\n",
    "        return self.fareprice\n",
    "    \n",
    "class slp(gen):\n",
    "    def __init__(self,d):\n",
    "        super().__init__(d)\n",
    "    def print_ticket(self):\n",
    "        self.fareprice=super().print_ticket()+(2*self.distance)\n",
    "        return self.fareprice\n",
    "    \n",
    "class AC(slp):\n",
    "    def __init__(self,d):\n",
    "        super().__init__(d)\n",
    "    def print_ticket(self):\n",
    "        self.fareprice=super().print_ticket()+(4*self.distance)\n",
    "        return self.fareprice\n",
    "\n",
    "class FC(AC):\n",
    "    def __init__(self,d):\n",
    "        super().__init__(d)\n",
    "    def print_ticket(self):\n",
    "        self.fareprice=super().print_ticket()+(5*self.distance)\n",
    "        return self.fareprice\n",
    "\n",
    "jur=FC(500)\n",
    "print(\"ticket booked fare price will be:\",jur.print_ticket())"
   ]
  },
  {
   "cell_type": "code",
   "execution_count": null,
   "id": "471dd7ce-3b99-4ebd-96e4-f2423b305353",
   "metadata": {},
   "outputs": [],
   "source": []
  }
 ],
 "metadata": {
  "kernelspec": {
   "display_name": "Python 3 (ipykernel)",
   "language": "python",
   "name": "python3"
  },
  "language_info": {
   "codemirror_mode": {
    "name": "ipython",
    "version": 3
   },
   "file_extension": ".py",
   "mimetype": "text/x-python",
   "name": "python",
   "nbconvert_exporter": "python",
   "pygments_lexer": "ipython3",
   "version": "3.12.3"
  }
 },
 "nbformat": 4,
 "nbformat_minor": 5
}
