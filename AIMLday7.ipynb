{
 "cells": [
  {
   "cell_type": "markdown",
   "id": "12a5e976-0147-4ff4-823b-89c1f7b74472",
   "metadata": {},
   "source": [
    "1.constant time-o(1) best time complexity\n",
    "2.linear-o(n)\n",
    "3.quadratic-o(n^2)\n",
    "4.exponential-o(n^m)\n",
    "5.factorial-o(n!) worst time complexity\n",
    "\n",
    "big o-normal\n",
    "theta-average case\n",
    "omega-best case\n",
    "\n",
    "space complexity\n",
    "1.constant space:there shd be no extra space\n",
    "2.linear space:can create a single copy"
   ]
  },
  {
   "cell_type": "code",
   "execution_count": 4,
   "id": "94b7d732-53ea-4568-a30d-53abf642587b",
   "metadata": {},
   "outputs": [
    {
     "name": "stdout",
     "output_type": "stream",
     "text": [
      "19\n"
     ]
    }
   ],
   "source": [
    "L=[2,4,6,1,3,7,4,6,9,3,6,8,3,6,4,1,3,9,6,4,5,6,8,3,7,3,6,8]\n",
    "#find the maximum sum of 3 consecutive elements of this array.\n",
    "max=0\n",
    "for x in range(0,len(L)-2):\n",
    "    sum = L[x]+L[x+1]+L[x+2]\n",
    "    if(max<sum):\n",
    "        max=sum\n",
    "\n",
    "print(max)\n",
    "\n"
   ]
  },
  {
   "cell_type": "code",
   "execution_count": 23,
   "id": "669ca800-9131-4eea-891f-3dd64451715d",
   "metadata": {},
   "outputs": [
    {
     "name": "stdin",
     "output_type": "stream",
     "text": [
      "enter the limit: 6\n"
     ]
    },
    {
     "name": "stdout",
     "output_type": "stream",
     "text": [
      "38\n"
     ]
    }
   ],
   "source": [
    "L=[2,4,6,1,3,7,4,6,9,3,6,8,3,6,4,1,3,9,6,4,5,6,8,3,7,3,6,8,2,4,6,1,3,7,4,6,9,3,6,7,4,6,9,3,6,8,3,6,4,1,3,9,6,4,]\n",
    "#find the maximum sum of 3 consecutive elements of this array.\n",
    "n=int(input(\"enter the limit:\"))\n",
    "max=0\n",
    "for x in range(0,len(L)-6):\n",
    "    sum = L[x]+L[x+1]+L[x+2]+L[x+3]+L[x+4]+L[x+5]\n",
    "    if(max<sum):\n",
    "        max=sum\n",
    "\n",
    "print(max)\n",
    "\n"
   ]
  },
  {
   "cell_type": "code",
   "execution_count": 28,
   "id": "f0596322-25f2-423d-89d1-3a467ae72d76",
   "metadata": {},
   "outputs": [
    {
     "name": "stdin",
     "output_type": "stream",
     "text": [
      "enter the consecutive number: 4\n"
     ]
    },
    {
     "name": "stdout",
     "output_type": "stream",
     "text": [
      "26\n"
     ]
    }
   ],
   "source": [
    "L=[2,4,6,1,3,7,4,6,9,3,6,8,3,6,4,1,3,9,6,4,5,6,8,3,7,3,6,8,2,4,6,1,3,7,4,6,9,3,6,7,4,6,9,3,6,8,3,6,4,1,3,9,6,4,]\n",
    "#find the maximum sum of 3 consecutive elements of this array.\n",
    "max=0\n",
    "con=int(input(\"enter the consecutive number:\"))\n",
    "for x in range(0,len(L)-con):\n",
    "    s=0\n",
    "    for j in range(0,con):\n",
    "        s=s+L[x+j]\n",
    "    if max<s:\n",
    "        max=s\n",
    "\n",
    "print(max)\n",
    "\n",
    "\n"
   ]
  },
  {
   "cell_type": "code",
   "execution_count": 2,
   "id": "a9d1c735-90c3-4051-ae63-4ee114bdc3c4",
   "metadata": {
    "scrolled": true
   },
   "outputs": [
    {
     "name": "stdin",
     "output_type": "stream",
     "text": [
      "enter the input: 3\n"
     ]
    },
    {
     "name": "stdout",
     "output_type": "stream",
     "text": [
      "19\n"
     ]
    }
   ],
   "source": [
    "L=[2,4,6,1,3,7,4,6,9,3,6,8,3,6,4,1,3,9,6,4,5,6,8,3,7,3,6,8,2,4,6,1,3,7,4,6,9,3,6,7,4,6,9,3,6,8,3,6,4,1,3,9,6,4,]\n",
    "#find the maximum sum of 3 consecutive elements of this array.\n",
    "max=sum=0\n",
    "n=int(input(\"enter the input:\"))\n",
    "for i in range(0,n):\n",
    "    sum=sum+L[i]\n",
    "\n",
    "for x in range(0,len(L)-n-1):\n",
    "    if max<sum:\n",
    "        max=sum\n",
    "    sum=sum+L[x+n]-L[x]\n",
    "print(max)\n",
    "\n"
   ]
  },
  {
   "cell_type": "code",
   "execution_count": 3,
   "id": "33e1dddf-b808-4873-93ce-840e9104a88f",
   "metadata": {},
   "outputs": [
    {
     "name": "stdout",
     "output_type": "stream",
     "text": [
      "[1, 2, 3, 4, 5, 6, 7, 8, 9]\n"
     ]
    }
   ],
   "source": [
    "L = [3,5,2,6,7,4,8,1,9]\n",
    "L.sort()\n",
    "print(L)"
   ]
  },
  {
   "cell_type": "code",
   "execution_count": 5,
   "id": "24df9d69-4958-4632-9291-0bbe72bb7a65",
   "metadata": {},
   "outputs": [
    {
     "name": "stdout",
     "output_type": "stream",
     "text": [
      "[1, 2, 3, 4, 5, 6, 7, 8, 9]\n"
     ]
    }
   ],
   "source": [
    "L = [3,5,2,6,7,4,8,1,9]\n",
    "for i in range(0,len(L)):\n",
    "    for j in range(i+1,len(L)-1):\n",
    "        if L[i]>L[j]:\n",
    "            L[i],L[j]=L[j],L[i]\n",
    "\n",
    "print(L)\n",
    "\n"
   ]
  },
  {
   "cell_type": "code",
   "execution_count": 11,
   "id": "97d1bce2-7325-40dd-aba5-df7c2fcd0ac3",
   "metadata": {},
   "outputs": [
    {
     "name": "stdout",
     "output_type": "stream",
     "text": [
      "[1, 2, 3, 4, 5, 6, 7, 8, 9]\n"
     ]
    }
   ],
   "source": [
    "l = [3,5,2,6,7,4,8,1,9]\n",
    "for i in range(0,len(l)):\n",
    "    for j in range(i+1,len(l)-1):\n",
    "        if l[i]>l[j]:\n",
    "            temp=l[i]\n",
    "            l[i]=l[j]\n",
    "            l[j]=temp\n",
    "            \n",
    "print(l)\n",
    "\n"
   ]
  },
  {
   "cell_type": "code",
   "execution_count": 12,
   "id": "cb4abea6-b9f0-441d-adfa-553f9458a260",
   "metadata": {},
   "outputs": [
    {
     "name": "stdout",
     "output_type": "stream",
     "text": [
      "[4, 5, 1, 8, 6, 7, 9]\n"
     ]
    }
   ],
   "source": [
    "arr=[5,4,8,1,9,6,7]\n",
    "for i in range(0,len(arr)-1):\n",
    "    if arr[i] > arr[i+1]:\n",
    "        temp=arr[i]\n",
    "        arr[i]=arr[i+1]\n",
    "        arr[i+1]=temp\n",
    "\n",
    "print(arr)"
   ]
  },
  {
   "cell_type": "code",
   "execution_count": 16,
   "id": "acd0156b-d265-42d6-a24a-3f4ec33640e0",
   "metadata": {},
   "outputs": [
    {
     "name": "stdout",
     "output_type": "stream",
     "text": [
      "[1, 4, 5, 6, 7, 8, 9]\n"
     ]
    }
   ],
   "source": [
    "arr=[5,4,8,1,9,6,7]\n",
    "for i in range(0,len(arr)):\n",
    "    for j in range(0,len(arr)-1):\n",
    "        if arr[j] > arr[j+1]:\n",
    "            temp=arr[j]\n",
    "            arr[j]=arr[j+1]\n",
    "            arr[j+1]=temp\n",
    "\n",
    "print(arr)"
   ]
  },
  {
   "cell_type": "code",
   "execution_count": 17,
   "id": "680d0bc8-6f4f-4c26-a777-c75673e6fa74",
   "metadata": {},
   "outputs": [
    {
     "name": "stdout",
     "output_type": "stream",
     "text": [
      "[1, 4, 5, 6, 7, 8, 9]\n"
     ]
    }
   ],
   "source": [
    "#insertion sort\n",
    "arr=[5,4,8,1,9,6,7]\n",
    "for i in range(1,len(arr)):\n",
    "    temp=arr[i]\n",
    "    j=i-1\n",
    "    while j>=0 and temp < arr[j]:\n",
    "        arr[j+1]=arr[j]\n",
    "        j -=1\n",
    "    arr[j+1] = temp\n",
    "\n",
    "print(arr)\n"
   ]
  },
  {
   "cell_type": "code",
   "execution_count": 19,
   "id": "25cd0fc8-f762-474b-a8f6-3f2d4690bba2",
   "metadata": {},
   "outputs": [
    {
     "name": "stdout",
     "output_type": "stream",
     "text": [
      "[1, 4, 5, 6, 7, 8, 9]\n"
     ]
    }
   ],
   "source": [
    "#selection sort\n",
    "arr=[5,4,8,1,9,6,7]\n",
    "for i in range(0,len(arr)):\n",
    "    min_idx=i\n",
    "    for j in range(i+1,len(arr)):\n",
    "        if arr[min_idx]>arr[j]:\n",
    "            min_idx=j\n",
    "\n",
    "    temp=arr[i]\n",
    "    arr[i]=arr[min_idx]\n",
    "    arr[min_idx]=temp\n",
    "\n",
    "print(arr)"
   ]
  },
  {
   "cell_type": "code",
   "execution_count": 5,
   "id": "0f945660-219a-4d46-aaa8-d07a791105c5",
   "metadata": {},
   "outputs": [
    {
     "name": "stdout",
     "output_type": "stream",
     "text": [
      "0 0 0\n",
      "0 1 1\n",
      "0 2 1\n",
      "0 3 3\n",
      "0 4 3\n",
      "0 5 3\n",
      "[2, 5, 6, 9, 3, 4]\n",
      "1 1 1\n",
      "1 2 1\n",
      "1 3 1\n",
      "1 4 4\n",
      "1 5 4\n",
      "[2, 3, 6, 9, 5, 4]\n",
      "2 2 2\n",
      "2 3 2\n",
      "2 4 4\n",
      "2 5 5\n",
      "[2, 3, 4, 9, 5, 6]\n",
      "3 3 3\n",
      "3 4 4\n",
      "3 5 4\n",
      "[2, 3, 4, 5, 9, 6]\n",
      "4 4 4\n",
      "4 5 5\n",
      "[2, 3, 4, 5, 6, 9]\n",
      "5 5 5\n",
      "[2, 3, 4, 5, 6, 9]\n",
      "[2, 3, 4, 5, 6, 9]\n"
     ]
    }
   ],
   "source": [
    "#selection sort\n",
    "arr=[9,5,6,2,3,4]\n",
    "for j in range(0,len(arr)):\n",
    "    a=j\n",
    "    for i in range(j,len(arr)):\n",
    "        if arr[i]<arr[a]:\n",
    "            a=i\n",
    "        print(j,i,a)\n",
    "    arr[a],arr[j]=arr[j],arr[a]\n",
    "    print(arr)\n",
    "\n",
    "print(arr)\n",
    "    "
   ]
  },
  {
   "cell_type": "markdown",
   "id": "bd64adca-66d4-43b8-afd0-0ca5e8b0d358",
   "metadata": {},
   "source": [
    "binary search\n",
    "1.sort in ascending order\n",
    "2.divide it and find the mid\n",
    "3.compare with search element\n",
    "4.if search element is lesser than mid move torwards the right\n",
    "5.if search element is greater than mid move towards the left\n",
    "6.if search element is equal to mid then search is successful"
   ]
  },
  {
   "cell_type": "code",
   "execution_count": null,
   "id": "6f482bd9-1aae-48df-ac64-4194c260ac75",
   "metadata": {},
   "outputs": [],
   "source": []
  }
 ],
 "metadata": {
  "kernelspec": {
   "display_name": "Python 3 (ipykernel)",
   "language": "python",
   "name": "python3"
  },
  "language_info": {
   "codemirror_mode": {
    "name": "ipython",
    "version": 3
   },
   "file_extension": ".py",
   "mimetype": "text/x-python",
   "name": "python",
   "nbconvert_exporter": "python",
   "pygments_lexer": "ipython3",
   "version": "3.12.3"
  }
 },
 "nbformat": 4,
 "nbformat_minor": 5
}
