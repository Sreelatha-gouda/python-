{
 "cells": [
  {
   "cell_type": "code",
   "execution_count": null,
   "id": "c7d830b4-e8ca-4520-8d11-ad59e4ef4c6f",
   "metadata": {},
   "outputs": [],
   "source": [
    "binary search\n",
    "1.sort in ascending order\n",
    "2.divide it and find the mid\n",
    "3.compare with search element\n",
    "4.if search element is lesser than mid move torwards the right\n",
    "5.if search element is greater than mid move towards the left\n",
    "6.if search element is equal to mid then search is successful"
   ]
  },
  {
   "cell_type": "code",
   "execution_count": 8,
   "id": "5c0ff940-dc9b-4234-a951-8bb69a6d05ac",
   "metadata": {},
   "outputs": [
    {
     "name": "stdout",
     "output_type": "stream",
     "text": [
      "[2, 4, 6, 8, 10, 12, 14, 16, 18, 20, 22, 24, 26, 28, 30]\n"
     ]
    },
    {
     "name": "stdin",
     "output_type": "stream",
     "text": [
      " 10\n"
     ]
    },
    {
     "name": "stdout",
     "output_type": "stream",
     "text": [
      "index of element is 4\n",
      "low 0 high 15 mid 7\n",
      "low 0 high 6 mid 3\n",
      "low 4 high 6 mid 5\n",
      "low 4 high 4 mid 4\n",
      "element found at 4\n"
     ]
    }
   ],
   "source": [
    "l=[2,4,6,8,10,12,14,16,18,20,22,24,26,28,30]\n",
    "l.sort()\n",
    "print(l)\n",
    "low = 0\n",
    "high = len(l)\n",
    "src=int(input())\n",
    "try:\n",
    "    print(\"index of element is\",l.index(src))\n",
    "except:\n",
    "    print(\"item not in list\")\n",
    "flag=0\n",
    "while low<=high:\n",
    "    mid = int(low+(high-low)/2)\n",
    "    print(\"low\",low,\"high\",high,\"mid\",mid)\n",
    "    if src<l[mid]:\n",
    "        high=mid-1\n",
    "    elif src>l[mid]:\n",
    "        low=mid+1 \n",
    "    else:\n",
    "        flag=1\n",
    "        break;\n",
    "if flag==1:\n",
    "    print(\"element found at\",mid)\n",
    "else:\n",
    "    print(\"element not found\")"
   ]
  },
  {
   "cell_type": "code",
   "execution_count": 28,
   "id": "6f74dd7b-aadf-4845-8e23-9eacc214b43f",
   "metadata": {},
   "outputs": [
    {
     "name": "stdin",
     "output_type": "stream",
     "text": [
      " this is (a)car\n"
     ]
    },
    {
     "name": "stdout",
     "output_type": "stream",
     "text": [
      "valid string\n"
     ]
    }
   ],
   "source": [
    "s=input()\n",
    "x=y=z=0\n",
    "for c in s:\n",
    "    match(c):\n",
    "        case '(':x+=1\n",
    "        case ')':x-=1\n",
    "        case '{':y+=1\n",
    "        case '}':y-=1\n",
    "        case '[':z+=1\n",
    "        case ']':z-=1\n",
    "        case _: continue\n",
    "\n",
    "if x+y+z == 0:\n",
    "    print(\"valid string\")\n",
    "else:\n",
    "    print(\"invalid string\")\n",
    "     "
   ]
  },
  {
   "cell_type": "code",
   "execution_count": 8,
   "id": "7562cbe3-2a2f-4f9f-81a2-2161aa1fcbee",
   "metadata": {},
   "outputs": [
    {
     "name": "stdout",
     "output_type": "stream",
     "text": [
      "item added to stack\n",
      "item added to stack\n",
      "item added to stack\n",
      "item added to stack\n",
      "[2, 3, 5, 4]\n",
      "item removed from stack\n",
      "[2, 3, 5]\n"
     ]
    }
   ],
   "source": [
    "def add(e):\n",
    "    s.append(e)\n",
    "    print(\"item added to stack\")\n",
    "\n",
    "def delete():\n",
    "    s.pop()\n",
    "    print(\"item removed from stack\")\n",
    "\n",
    "s=[]\n",
    "add(2)\n",
    "add(3)\n",
    "add(5)\n",
    "add(4)\n",
    "print(s)\n",
    "\n",
    "delete()\n",
    "print(s)\n"
   ]
  },
  {
   "cell_type": "code",
   "execution_count": 14,
   "id": "b50ae74d-082d-4db2-990d-6317a31f1f5d",
   "metadata": {},
   "outputs": [
    {
     "name": "stdout",
     "output_type": "stream",
     "text": [
      "item added to queue\n",
      "item added to queue\n",
      "item added to queue\n",
      "item added to queue\n",
      "[2, 3, 5, 4]\n",
      "item removed from queue\n",
      "[3, 5, 4]\n",
      "item removed from queue\n",
      "[5, 4]\n"
     ]
    }
   ],
   "source": [
    "def add(e):\n",
    "    q.append(e)\n",
    "    print(\"item added to queue\")\n",
    "\n",
    "def delete():\n",
    "    q.pop(0)\n",
    "    print(\"item removed from queue\")\n",
    "\n",
    "q=[]\n",
    "add(2)\n",
    "add(3)\n",
    "add(5)\n",
    "add(4)\n",
    "print(q)\n",
    "\n",
    "delete()\n",
    "print(q)\n",
    "delete()\n",
    "print(q)\n"
   ]
  },
  {
   "cell_type": "code",
   "execution_count": null,
   "id": "9d98706a-3e46-451b-b592-7f05d4df692f",
   "metadata": {},
   "outputs": [],
   "source": []
  }
 ],
 "metadata": {
  "kernelspec": {
   "display_name": "Python 3 (ipykernel)",
   "language": "python",
   "name": "python3"
  },
  "language_info": {
   "codemirror_mode": {
    "name": "ipython",
    "version": 3
   },
   "file_extension": ".py",
   "mimetype": "text/x-python",
   "name": "python",
   "nbconvert_exporter": "python",
   "pygments_lexer": "ipython3",
   "version": "3.12.3"
  }
 },
 "nbformat": 4,
 "nbformat_minor": 5
}
