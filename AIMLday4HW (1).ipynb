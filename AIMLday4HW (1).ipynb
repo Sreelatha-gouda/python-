{
 "cells": [
  {
   "cell_type": "code",
   "execution_count": 4,
   "id": "098aedfe-7275-4a08-801a-78b3246d66f5",
   "metadata": {},
   "outputs": [
    {
     "name": "stdin",
     "output_type": "stream",
     "text": [
      "enter the temperature in Celsius:\n",
      " 12\n"
     ]
    },
    {
     "name": "stdout",
     "output_type": "stream",
     "text": [
      "temperature in farenheit : 53.6\n"
     ]
    }
   ],
   "source": [
    "celsius = int(input(\"enter the temperature in Celsius:\\n\"))\n",
    "farenheit = (1.8 * celsius) + 32\n",
    "print(\"temperature in farenheit :\",farenheit)"
   ]
  },
  {
   "cell_type": "code",
   "execution_count": 6,
   "id": "ed68efe3-94c8-40a9-aa53-9b74a404bee7",
   "metadata": {},
   "outputs": [
    {
     "name": "stdout",
     "output_type": "stream",
     "text": [
      "the second largest number is: 40\n"
     ]
    }
   ],
   "source": [
    "list1=[10,20,30,40,40,50]\n",
    "list2=list(set(list1))\n",
    "list2.sort()\n",
    "print(\"the second largest number is:\",list2[-2])"
   ]
  },
  {
   "cell_type": "code",
   "execution_count": 7,
   "id": "d0201c08-2941-46b5-b6bc-e324ba275c65",
   "metadata": {},
   "outputs": [
    {
     "name": "stdout",
     "output_type": "stream",
     "text": [
      "the element 2 occurs 3 times\n"
     ]
    }
   ],
   "source": [
    "a = [1,1,2,2,2,3,3,4,4,5,5]\n",
    "b=2\n",
    "x=[i for i in a if i==b]\n",
    "print(\"the element\",b,\"occurs\",len(x),\"times\")"
   ]
  },
  {
   "cell_type": "code",
   "execution_count": 10,
   "id": "d6768b84-cf21-469c-ad41-199e91c11b3b",
   "metadata": {},
   "outputs": [
    {
     "name": "stdin",
     "output_type": "stream",
     "text": [
      "enter a number: 10\n"
     ]
    },
    {
     "name": "stdout",
     "output_type": "stream",
     "text": [
      "0\n",
      "2\n",
      "4\n",
      "6\n",
      "8\n",
      "10\n",
      "sum of all the even numbers is30\n"
     ]
    }
   ],
   "source": [
    "#sum of all even numbers in a list\n",
    "a=int(input(\"enter a number:\"))\n",
    "sum=0\n",
    "for i in range(0,a+1):\n",
    "    if i % 2==0:\n",
    "        print(i)\n",
    "        sum+=i\n",
    "\n",
    "print(f\"sum of all the even numbers is{sum}\")\n",
    "        \n",
    "\n"
   ]
  },
  {
   "cell_type": "code",
   "execution_count": 27,
   "id": "dd7da54c-0484-49fe-ad83-03ca1853e5c4",
   "metadata": {},
   "outputs": [
    {
     "name": "stdout",
     "output_type": "stream",
     "text": [
      "number of vowels in the given string is: 4\n"
     ]
    }
   ],
   "source": [
    "#count the number of vowels in a string\n",
    "a = \"sreelatha\"\n",
    "vowels = [\"a\",\"e\",\"i\",\"o\",\"u\"]\n",
    "count=0\n",
    "for character in a:\n",
    "    if character in vowels:\n",
    "        count += 1\n",
    "\n",
    "print(\"number of vowels in the given string is:\",count)\n"
   ]
  },
  {
   "cell_type": "code",
   "execution_count": 29,
   "id": "cedf208c-da1c-4233-8b51-3bc58aaf2e86",
   "metadata": {},
   "outputs": [
    {
     "name": "stdout",
     "output_type": "stream",
     "text": [
      "gardening love i\n"
     ]
    }
   ],
   "source": [
    "#to reverse words in a given string\n",
    "def reversewords(s):\n",
    "    words = s.split(' ')\n",
    "    reverse_str = ' '.join(reversed(words))\n",
    "    return reverse_str\n",
    "\n",
    "s1 = \"i love gardening\"\n",
    "print(reversewords(s1))\n",
    "    "
   ]
  },
  {
   "cell_type": "code",
   "execution_count": null,
   "id": "5c9a6b07-fd45-44b6-9932-6558d2251a05",
   "metadata": {},
   "outputs": [],
   "source": []
  }
 ],
 "metadata": {
  "kernelspec": {
   "display_name": "Python 3 (ipykernel)",
   "language": "python",
   "name": "python3"
  },
  "language_info": {
   "codemirror_mode": {
    "name": "ipython",
    "version": 3
   },
   "file_extension": ".py",
   "mimetype": "text/x-python",
   "name": "python",
   "nbconvert_exporter": "python",
   "pygments_lexer": "ipython3",
   "version": "3.12.3"
  }
 },
 "nbformat": 4,
 "nbformat_minor": 5
}
