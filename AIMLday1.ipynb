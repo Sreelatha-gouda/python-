{
 "cells": [
  {
   "cell_type": "code",
   "execution_count": 2,
   "id": "b90735b1-4785-4446-9a71-d79a127469a7",
   "metadata": {},
   "outputs": [
    {
     "name": "stdout",
     "output_type": "stream",
     "text": [
      "hello\n"
     ]
    }
   ],
   "source": [
    "print(\"hello\")"
   ]
  },
  {
   "cell_type": "code",
   "execution_count": 1,
   "id": "a370a5fe-3317-436b-9981-3d857abe51ee",
   "metadata": {},
   "outputs": [
    {
     "name": "stdout",
     "output_type": "stream",
     "text": [
      "6\n",
      "<class 'int'>\n"
     ]
    }
   ],
   "source": [
    "a=6\n",
    "print(a)\n",
    "print(type(a))\n"
   ]
  },
  {
   "cell_type": "code",
   "execution_count": 2,
   "id": "5dd46ea5-0d01-4386-8ca5-d3c80662cacd",
   "metadata": {},
   "outputs": [
    {
     "name": "stdout",
     "output_type": "stream",
     "text": [
      "9.9\n",
      "<class 'float'>\n",
      "[2, 3]\n",
      "<class 'list'>\n",
      "(5, 6)\n",
      "<class 'tuple'>\n",
      "(0, 10)\n",
      "<class 'tuple'>\n",
      "{1: 'abcd', 2: 'qwert'}\n",
      "<class 'dict'>\n"
     ]
    }
   ],
   "source": [
    "a=9.9\n",
    "print(a)\n",
    "print(type(a))\n",
    "\n",
    "\n",
    "a=[2,3]\n",
    "print(a)\n",
    "print(type(a))\n",
    "\n",
    "\n",
    "a=(5,6)\n",
    "print(a)\n",
    "print(type(a))\n",
    " \n",
    "\n",
    "a=(0,10)\n",
    "print(a)\n",
    "print(type(a))\n",
    "\n",
    "\n",
    "a={1:\"abcd\",2:\"qwert\"}\n",
    "print(a)\n",
    "print(type(a))\n"
   ]
  },
  {
   "cell_type": "code",
   "execution_count": 4,
   "id": "885d33d7-2910-4131-8228-5f8f6071f967",
   "metadata": {},
   "outputs": [
    {
     "name": "stdout",
     "output_type": "stream",
     "text": [
      "range(1, 10)\n",
      "<class 'range'>\n"
     ]
    }
   ],
   "source": [
    "a=range(1,10)\n",
    "print(a)\n",
    "print(type(a))"
   ]
  },
  {
   "cell_type": "code",
   "execution_count": 5,
   "id": "db5b2506-8cfd-44bb-a8f1-88d9817b56b6",
   "metadata": {},
   "outputs": [
    {
     "name": "stdout",
     "output_type": "stream",
     "text": [
      "s\n",
      "<class 'str'>\n"
     ]
    }
   ],
   "source": [
    "a=\"s\"\n",
    "print(a)\n",
    "print(type(a))"
   ]
  },
  {
   "cell_type": "code",
   "execution_count": 18,
   "id": "68a1a2b9-ccb9-4b58-8c48-97097cb88a2d",
   "metadata": {},
   "outputs": [
    {
     "name": "stdout",
     "output_type": "stream",
     "text": [
      "abcd \n",
      " efgh \n",
      " ijkl \n",
      " mnop\n",
      "abcdefghijklmnop\n"
     ]
    }
   ],
   "source": [
    "a=\"abcd\"\n",
    "b=\"efgh\"\n",
    "c=\"ijkl\"\n",
    "print(a,\"\\n\",b,\"\\n\",c,\"\\n\",\"mnop\")\n",
    "print(a+b+c+\"mnop\")"
   ]
  },
  {
   "cell_type": "code",
   "execution_count": 10,
   "id": "5d17a29a-c535-49ad-9c39-6447167043ca",
   "metadata": {},
   "outputs": [
    {
     "name": "stdin",
     "output_type": "stream",
     "text": [
      " 5\n",
      " 6\n"
     ]
    },
    {
     "name": "stdout",
     "output_type": "stream",
     "text": [
      "56\n",
      "<class 'str'>\n",
      "<class 'str'>\n",
      "<class 'str'>\n"
     ]
    }
   ],
   "source": [
    "a=input()\n",
    "b=input()\n",
    "c=a+b\n",
    "print(c)\n",
    "print(type(a))\n",
    "print(type(b))\n",
    "print(type(c))"
   ]
  },
  {
   "cell_type": "code",
   "execution_count": 11,
   "id": "0842a98e-771a-4922-98d3-e2667b49a005",
   "metadata": {},
   "outputs": [
    {
     "name": "stdin",
     "output_type": "stream",
     "text": [
      " 5\n",
      " 6\n"
     ]
    },
    {
     "name": "stdout",
     "output_type": "stream",
     "text": [
      "11\n",
      "<class 'int'>\n",
      "<class 'int'>\n",
      "<class 'int'>\n"
     ]
    }
   ],
   "source": [
    "a=int(input())\n",
    "b=int(input())\n",
    "c=a+b\n",
    "print(c)\n",
    "print(type(a))\n",
    "print(type(b))\n",
    "print(type(c))"
   ]
  },
  {
   "cell_type": "code",
   "execution_count": 13,
   "id": "9337183b-32cf-4d10-9099-4f18afa98679",
   "metadata": {},
   "outputs": [
    {
     "name": "stdin",
     "output_type": "stream",
     "text": [
      "enter first number: 5\n",
      "enter second number: 6\n"
     ]
    },
    {
     "name": "stdout",
     "output_type": "stream",
     "text": [
      "11\n",
      "<class 'int'>\n",
      "<class 'int'>\n",
      "<class 'int'>\n"
     ]
    }
   ],
   "source": [
    "a=int(input(\"enter first number:\"))\n",
    "b=int(input(\"enter second number:\"))\n",
    "c=a+b\n",
    "print(c)\n",
    "print(type(a))\n",
    "print(type(b))\n",
    "print(type(c))"
   ]
  },
  {
   "cell_type": "code",
   "execution_count": 16,
   "id": "79e97098-b6de-4299-96a4-09efb761f719",
   "metadata": {},
   "outputs": [
    {
     "name": "stdin",
     "output_type": "stream",
     "text": [
      "enter three number: 5 6 7\n"
     ]
    },
    {
     "name": "stdout",
     "output_type": "stream",
     "text": [
      "567\n",
      "<class 'str'>\n",
      "<class 'str'>\n",
      "<class 'str'>\n"
     ]
    }
   ],
   "source": [
    "a,b,c=input(\"enter three number:\").split()\n",
    "\n",
    "d=a+b+c\n",
    "print(d)\n",
    "print(type(a))\n",
    "print(type(b))\n",
    "print(type(c))"
   ]
  },
  {
   "cell_type": "code",
   "execution_count": 20,
   "id": "5ec4d0ff-5127-4ad0-b420-6897be824af9",
   "metadata": {},
   "outputs": [
    {
     "name": "stdin",
     "output_type": "stream",
     "text": [
      "enter three number: 4 5 6\n"
     ]
    },
    {
     "name": "stdout",
     "output_type": "stream",
     "text": [
      "456\n",
      "<class 'str'>\n",
      "<class 'str'>\n",
      "<class 'str'>\n"
     ]
    }
   ],
   "source": [
    "a,b,c=input(\"enter three number:\").split()\n",
    "\n",
    "d=a+b+c\n",
    "print(d)\n",
    "print(type(a))\n",
    "print(type(b))\n",
    "print(type(c))"
   ]
  },
  {
   "cell_type": "code",
   "execution_count": 19,
   "id": "68dd889a-eb72-4cb5-b2f4-85de7c6d84f0",
   "metadata": {},
   "outputs": [
    {
     "name": "stdin",
     "output_type": "stream",
     "text": [
      "enter three number: 4 raj 5.5\n"
     ]
    },
    {
     "name": "stdout",
     "output_type": "stream",
     "text": [
      "4raj5.5\n",
      "<class 'str'>\n",
      "<class 'str'>\n",
      "<class 'str'>\n"
     ]
    }
   ],
   "source": [
    "a,b,c=input(\"enter three number:\").split()\n",
    "\n",
    "d=a+b+c\n",
    "print(d)\n",
    "print(type(a))\n",
    "print(type(b))\n",
    "print(type(c))"
   ]
  },
  {
   "cell_type": "code",
   "execution_count": null,
   "id": "e984418f-bf25-44e5-9554-63041c6e16f0",
   "metadata": {},
   "outputs": [],
   "source": []
  }
 ],
 "metadata": {
  "kernelspec": {
   "display_name": "Python 3 (ipykernel)",
   "language": "python",
   "name": "python3"
  },
  "language_info": {
   "codemirror_mode": {
    "name": "ipython",
    "version": 3
   },
   "file_extension": ".py",
   "mimetype": "text/x-python",
   "name": "python",
   "nbconvert_exporter": "python",
   "pygments_lexer": "ipython3",
   "version": "3.12.3"
  }
 },
 "nbformat": 4,
 "nbformat_minor": 5
}
