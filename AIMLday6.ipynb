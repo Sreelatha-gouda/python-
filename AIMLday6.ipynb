{
 "cells": [
  {
   "cell_type": "code",
   "execution_count": 25,
   "id": "47796eee-060f-4d90-899f-6e514093f536",
   "metadata": {},
   "outputs": [
    {
     "name": "stdout",
     "output_type": "stream",
     "text": [
      "car is having: KA0406 16.8cc 2500000 white kia 4 100km/hr\n",
      "truck is having: KA0406 16.8cc 2500000 white 12 250kg\n"
     ]
    }
   ],
   "source": [
    "class vehicle:\n",
    "    def __init__(self,e,r,p,c):\n",
    "        self.engine=e\n",
    "        self.regplate=r\n",
    "        self.price=p\n",
    "        self.colour=c\n",
    "\n",
    "class car(vehicle):\n",
    "    def __init__(self,t,np,ms,e,r,p,c):\n",
    "        self.type=t\n",
    "        self.numberofpassangers=np\n",
    "        self.maximumspeed=ms\n",
    "        super().__init__(e,r,p,c)\n",
    "\n",
    "class truck(vehicle):\n",
    "    def __init__(self,na,lc,e,r,p,c):\n",
    "        self.numberofaxle=na\n",
    "        self.loadcapacity=lc\n",
    "        super().__init__(e,r,p,c)\n",
    "\n",
    "if __name__==\"__main__\":\n",
    "   # s1=vehicle(\"16.8cc\",\"KA0406\",2500000,white)\n",
    "    s2=car(\"kia\",4,\"100km/hr\",\"16.8cc\",\"KA0406\",2500000,\"white\")\n",
    "    s3=truck(12,\"250kg\",\"16.8cc\",\"KA0406\",2500000,\"white\")\n",
    "print(\"car is having:\",s2.regplate,s2.engine,s2.price,s2.colour,s2.type,s2.numberofpassangers,s2.maximumspeed)\n",
    "print(\"truck is having:\",s3.regplate,s3.engine,s3.price,s3.colour,s3.numberofaxle,s3.loadcapacity)\n",
    "\n"
   ]
  },
  {
   "cell_type": "code",
   "execution_count": 29,
   "id": "60e599d4-8a2c-4181-9f4e-bf3c2e888880",
   "metadata": {},
   "outputs": [
    {
     "name": "stdout",
     "output_type": "stream",
     "text": [
      "employee details are: 154 sree 150000 aiml ballari\n",
      "employee details are: 154 sree 150000 python ai2 10years\n",
      "employee details are: 154 sree 150000 pythonproject sneha\n"
     ]
    }
   ],
   "source": [
    "class employee:\n",
    "    def __init__(self,ei,en,es):\n",
    "        self.eid=ei\n",
    "        self.ename=en\n",
    "        self.esalary=es\n",
    "\n",
    "class staff(employee):\n",
    "    def __init__(self,wt,wa,ei,en,es):\n",
    "        self.worktype=wt\n",
    "        self.workarea=wa\n",
    "        super().__init__(ei,en,es)\n",
    "\n",
    "class developer(employee):\n",
    "    def __init__(self,m,t,e,ei,en,es):\n",
    "        self.module=m\n",
    "        self.tech=t\n",
    "        self.experience=e\n",
    "        super().__init__(ei,en,es)\n",
    "\n",
    "class manager(employee):\n",
    "    def __init__(self,p,cn,ei,en,es):\n",
    "        self.project=p\n",
    "        self.clientname=cn\n",
    "        super().__init__(ei,en,es)\n",
    "\n",
    "if __name__==\"__main__\":\n",
    "    s2=staff(\"aiml\",\"ballari\",154,\"sree\",150000)\n",
    "    s3=developer(\"python\",\"ai2\",\"10years\",154,\"sree\",150000)\n",
    "    s4=manager(\"pythonproject\",\"sneha\",154,\"sree\",150000)\n",
    "\n",
    "print(\"employee details are:\",s2.eid,s2.ename,s2.esalary,s2.worktype,s2.workarea)\n",
    "print(\"employee details are:\",s3.eid,s3.ename,s3.esalary,s3.module,s3.tech,s3.experience)\n",
    "print(\"employee details are:\",s4.eid,s4.ename,s4.esalary,s4.project,s4.clientname)\n",
    "    "
   ]
  },
  {
   "cell_type": "code",
   "execution_count": 42,
   "id": "f47b8be1-0f79-43cb-98fd-01a016503456",
   "metadata": {},
   "outputs": [
    {
     "name": "stdin",
     "output_type": "stream",
     "text": [
      " 6\n"
     ]
    },
    {
     "name": "stdout",
     "output_type": "stream",
     "text": [
      "* * * * * * \n",
      "* * * * * * \n",
      "* * * * * * \n",
      "* * * * * * \n",
      "* * * * * * \n",
      "* * * * * * \n"
     ]
    }
   ],
   "source": [
    "a=int(input())\n",
    "for i in range(0,a):\n",
    "    for j in range(0,a):\n",
    "        print(\"*\",end=\" \")\n",
    "        j=j+1\n",
    "    print()"
   ]
  },
  {
   "cell_type": "code",
   "execution_count": 53,
   "id": "f0731b46-5442-4da3-9539-6141e542056a",
   "metadata": {},
   "outputs": [
    {
     "name": "stdin",
     "output_type": "stream",
     "text": [
      " 5\n"
     ]
    },
    {
     "name": "stdout",
     "output_type": "stream",
     "text": [
      "*\n",
      "**\n",
      "***\n",
      "****\n",
      "*****\n"
     ]
    }
   ],
   "source": [
    "a=int(input())\n",
    "for i in range(0,a):\n",
    "    for j in range(0,i+1):\n",
    "        print(\"*\",end=\"\")\n",
    "    print()  "
   ]
  },
  {
   "cell_type": "code",
   "execution_count": 54,
   "id": "59827c65-88cc-4de0-8280-0433ceac84a7",
   "metadata": {},
   "outputs": [
    {
     "name": "stdin",
     "output_type": "stream",
     "text": [
      " 5\n"
     ]
    },
    {
     "name": "stdout",
     "output_type": "stream",
     "text": [
      "*****\n",
      "****\n",
      "***\n",
      "**\n",
      "*\n"
     ]
    }
   ],
   "source": [
    "a=int(input())\n",
    "for i in range(a,0,-1):\n",
    "    for j in range(0,i):\n",
    "        print(\"*\",end=\"\")\n",
    "    print()    "
   ]
  },
  {
   "cell_type": "code",
   "execution_count": 60,
   "id": "95fbdf6e-1f74-4576-9dc7-2db671b8d955",
   "metadata": {},
   "outputs": [
    {
     "name": "stdin",
     "output_type": "stream",
     "text": [
      " 5\n"
     ]
    },
    {
     "name": "stdout",
     "output_type": "stream",
     "text": [
      "1 0 \n",
      "1 0 1 0 \n",
      "1 0 1 0 1 0 \n",
      "1 0 1 0 1 0 1 0 \n",
      "1 0 1 0 1 0 1 0 1 0 \n"
     ]
    }
   ],
   "source": [
    "a=int(input())\n",
    "for i in range(0,a):\n",
    "    for j in range(0,i+1):\n",
    "        print(\"1\",\"0\",end=\" \")\n",
    "    print()    \n"
   ]
  },
  {
   "cell_type": "code",
   "execution_count": 70,
   "id": "c460a3b3-2753-49dd-9f31-a36da9d379b2",
   "metadata": {},
   "outputs": [
    {
     "name": "stdin",
     "output_type": "stream",
     "text": [
      " 5\n"
     ]
    },
    {
     "name": "stdout",
     "output_type": "stream",
     "text": [
      "*****\n",
      " ****\n",
      "  ***\n",
      "   **\n",
      "    *\n"
     ]
    }
   ],
   "source": [
    "a=int(input())\n",
    "for i in range(0,a):\n",
    "    for j in range(0,a):\n",
    "        if j>=i:\n",
    "            print(\"*\",end=\"\")\n",
    "        else:\n",
    "            print(\" \",end=\"\")\n",
    "    print()    "
   ]
  },
  {
   "cell_type": "code",
   "execution_count": 85,
   "id": "6cb9fea1-8a72-4159-beb8-b00b266faee3",
   "metadata": {},
   "outputs": [
    {
     "name": "stdin",
     "output_type": "stream",
     "text": [
      " 5\n"
     ]
    }
   ],
   "source": [
    "a=int(input())\n",
    "for i in range(0,a,-1):\n",
    "    for j in range(0,a):\n",
    "        print(\"1\",\"2\",\"3\",\"4\",end=\"\")\n",
    "        a=i+1\n",
    "        print()\n",
    "        \n",
    "        \n",
    "        \n",
    "        \n",
    "            \n",
    "        \n",
    "\n",
    "           "
   ]
  },
  {
   "cell_type": "code",
   "execution_count": null,
   "id": "c7b32f96-7a44-4f48-b887-30198bfc4f78",
   "metadata": {},
   "outputs": [],
   "source": []
  }
 ],
 "metadata": {
  "kernelspec": {
   "display_name": "Python 3 (ipykernel)",
   "language": "python",
   "name": "python3"
  },
  "language_info": {
   "codemirror_mode": {
    "name": "ipython",
    "version": 3
   },
   "file_extension": ".py",
   "mimetype": "text/x-python",
   "name": "python",
   "nbconvert_exporter": "python",
   "pygments_lexer": "ipython3",
   "version": "3.12.3"
  }
 },
 "nbformat": 4,
 "nbformat_minor": 5
}
