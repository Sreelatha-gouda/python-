{
 "cells": [
  {
   "cell_type": "code",
   "execution_count": 2,
   "id": "97592fdf-ac69-430f-8853-35851bba02df",
   "metadata": {},
   "outputs": [
    {
     "name": "stdout",
     "output_type": "stream",
     "text": [
      "2\n",
      "4\n",
      "6\n",
      "8\n",
      "10\n",
      "12\n",
      "14\n",
      "16\n",
      "18\n",
      "20\n"
     ]
    }
   ],
   "source": [
    "i=(input)\n",
    "for i in range(1,11):\n",
    "    print(i*2)\n"
   ]
  },
  {
   "cell_type": "code",
   "execution_count": 7,
   "id": "b404a622-c89a-47c6-a4e8-3bb7635b687a",
   "metadata": {},
   "outputs": [
    {
     "name": "stdout",
     "output_type": "stream",
     "text": [
      "2\n",
      "4\n",
      "6\n",
      "8\n",
      "10\n",
      "12\n",
      "14\n",
      "16\n",
      "18\n",
      "20\n"
     ]
    }
   ],
   "source": [
    "#printing table for 2 using recursion\n",
    "def fun(i):\n",
    "    if i==11:\n",
    "        return\n",
    "    print(i*2)\n",
    "    i=i+1\n",
    "    fun(i)\n",
    "    return\n",
    "fun(1)  "
   ]
  },
  {
   "cell_type": "code",
   "execution_count": null,
   "id": "9213ddc3-e744-4c3b-af20-34566b701ad9",
   "metadata": {},
   "outputs": [],
   "source": [
    "#Factorial"
   ]
  },
  {
   "cell_type": "code",
   "execution_count": 10,
   "id": "b918a2cd-7529-41ee-b983-de6dcd3057d4",
   "metadata": {},
   "outputs": [
    {
     "name": "stdin",
     "output_type": "stream",
     "text": [
      " 5\n"
     ]
    },
    {
     "name": "stdout",
     "output_type": "stream",
     "text": [
      "120\n"
     ]
    }
   ],
   "source": [
    "n=int(input())\n",
    "factorial=1\n",
    "for i in range(1,n+1):\n",
    "    factorial=factorial*i\n",
    "print(factorial)"
   ]
  },
  {
   "cell_type": "code",
   "execution_count": 13,
   "id": "153aaae3-aa20-43b6-b9ab-70781f6c1e72",
   "metadata": {},
   "outputs": [
    {
     "data": {
      "text/plain": [
       "120"
      ]
     },
     "execution_count": 13,
     "metadata": {},
     "output_type": "execute_result"
    }
   ],
   "source": [
    "def fun(i):\n",
    "  if i==1:\n",
    "     return 1\n",
    "  return i*fun(i-1)\n",
    "  print(i)\n",
    "fun(5)\n"
   ]
  },
  {
   "cell_type": "code",
   "execution_count": null,
   "id": "1d45e846-89b7-4e4c-ac56-0e7965edaa1b",
   "metadata": {},
   "outputs": [],
   "source": [
    "#fibonacci"
   ]
  },
  {
   "cell_type": "code",
   "execution_count": 1,
   "id": "bb6acfc0-4285-42cc-bd0e-7a48efcda206",
   "metadata": {},
   "outputs": [
    {
     "name": "stdin",
     "output_type": "stream",
     "text": [
      "enter the length of series: 10\n"
     ]
    },
    {
     "name": "stdout",
     "output_type": "stream",
     "text": [
      "0 1 1 2 3 5 8 13 21 34 "
     ]
    }
   ],
   "source": [
    "a=0\n",
    "b=1\n",
    "n=int(input(\"enter the length of series:\"))\n",
    "print(a,b,end=\" \")\n",
    "\n",
    "\n",
    "for i in range(0,n-2):\n",
    "    c=a+b\n",
    "    print(c,end=\" \") \n",
    "    a=b\n",
    "    b=c\n"
   ]
  },
  {
   "cell_type": "code",
   "execution_count": null,
   "id": "5e6c11e6-3b31-4d02-bb17-ba7597b6e9c4",
   "metadata": {},
   "outputs": [],
   "source": [
    "#quicksort"
   ]
  },
  {
   "cell_type": "code",
   "execution_count": 26,
   "id": "cb1eb478-be16-4291-8d1d-065abe662e12",
   "metadata": {},
   "outputs": [
    {
     "name": "stdout",
     "output_type": "stream",
     "text": [
      "[3, 5, 7, 2, 4, 8, 1, 9, 6]\n",
      "6\n",
      "[3, 5, 2, 4, 1, 6, 7, 9, 8]\n",
      "next\n",
      "[3, 5, 2, 4, 1, 6, 7, 9, 8]\n",
      "1\n",
      "[1, 5, 2, 4, 3, 6, 7, 9, 8]\n",
      "next\n",
      "[1, 5, 2, 4, 3, 6, 7, 9, 8]\n",
      "3\n",
      "[1, 2, 3, 4, 5, 6, 7, 9, 8]\n",
      "next\n",
      "[1, 2, 3, 4, 5, 6, 7, 9, 8]\n",
      "5\n",
      "[1, 2, 3, 4, 5, 6, 7, 9, 8]\n",
      "next\n",
      "[1, 2, 3, 4, 5, 6, 7, 9, 8]\n",
      "8\n",
      "[1, 2, 3, 4, 5, 6, 7, 8, 9]\n",
      "next\n",
      "[1, 2, 3, 4, 5, 6, 7, 8, 9]\n"
     ]
    }
   ],
   "source": [
    "def findpe(ar,low,high):\n",
    "    pe=ar[high]\n",
    "    j=low-1\n",
    "    for i in range(low,high):\n",
    "        if pe>ar[i]:\n",
    "            j+=1\n",
    "            ar[i],ar[j]=ar[j],ar[i]\n",
    "    ar[high],ar[j+1]=ar[j+1],ar[high]\n",
    "    return j+1\n",
    "\n",
    "def quicksort(ar,low,high):\n",
    "    if low<high:\n",
    "        print(ar)\n",
    "        pe = findpe(ar,low,high)\n",
    "        print(ar[pe])\n",
    "        print(ar)\n",
    "        print(\"next\")\n",
    "        quicksort(ar,low,pe-1)\n",
    "        quicksort(ar,pe+1,high)\n",
    "#main       \n",
    "ar = [3,5,7,2,4,8,1,9,6]\n",
    "quicksort(ar,0,len(ar)-1)\n",
    "print(ar)\n"
   ]
  },
  {
   "cell_type": "code",
   "execution_count": null,
   "id": "f76e98c3-cdb8-424b-9f37-37c5e901cf72",
   "metadata": {},
   "outputs": [],
   "source": [
    "#linked list"
   ]
  },
  {
   "cell_type": "code",
   "execution_count": 2,
   "id": "a19d4c63-1a1e-4a1e-9c28-8567431dfe24",
   "metadata": {},
   "outputs": [
    {
     "name": "stdout",
     "output_type": "stream",
     "text": [
      "A= <__main__.node object at 0x000002EC2ADEF170>\n",
      "B= <__main__.node object at 0x000002EC2ADEF9B0>\n",
      "C= <__main__.node object at 0x000002EC2AE04AD0>\n",
      "D= <__main__.node object at 0x000002EC2AE049E0>\n",
      "<__main__.node object at 0x000002EC2ADEF170> -->\n",
      "<__main__.node object at 0x000002EC2ADEF9B0> -->\n",
      "<__main__.node object at 0x000002EC2AE04AD0> -->\n",
      "<__main__.node object at 0x000002EC2AE049E0> -->\n"
     ]
    }
   ],
   "source": [
    "#linked list\n",
    "\n",
    "class node:\n",
    "    def __init__(self,value):\n",
    "        self.data=value\n",
    "        self.next=node\n",
    "\n",
    "A=node(\"apple\")\n",
    "B=node(\"book\")\n",
    "C=node(\"cat\")\n",
    "D=node(\"dog\")\n",
    "\n",
    "head=A\n",
    "head.next=B\n",
    "head.next.next=C\n",
    "head.next.next.next=D\n",
    "\n",
    "print(\"A=\",A)\n",
    "print(\"B=\",B)\n",
    "print(\"C=\",C)\n",
    "print(\"D=\",D)\n",
    "\n",
    "print(head,\"-->\")\n",
    "print(head.next,\"-->\")\n",
    "print(head.next.next,\"-->\")\n",
    "print(head.next.next.next,\"-->\")\n",
    "\n",
    "\n",
    "        \n"
   ]
  },
  {
   "cell_type": "code",
   "execution_count": 3,
   "id": "2232b791-72ae-49d7-8fc3-a6672e237c94",
   "metadata": {},
   "outputs": [
    {
     "name": "stdout",
     "output_type": "stream",
     "text": [
      "node 1 <__main__.node object at 0x000002EC2AE07260> 1\n",
      "node 2 <__main__.node object at 0x000002EC2AE04950> 2\n",
      "node 3 <__main__.node object at 0x000002EC2AE07F20> 3\n",
      "node 4 <__main__.node object at 0x000002EC2AE07E60> 4\n"
     ]
    }
   ],
   "source": [
    "class node:\n",
    "    def __init__(self,value):\n",
    "        self.data=value\n",
    "        self.next=node\n",
    "\n",
    "head= node(1)\n",
    "head.next=node(2)\n",
    "head.next.next=node(3)\n",
    "head.next.next.next=node(4)\n",
    "\n",
    "print(\"node 1\",head,head.data)\n",
    "print(\"node 2\",head.next,head.next.data)\n",
    "print(\"node 3\",head.next.next,head.next.next.data)\n",
    "print(\"node 4\",head.next.next.next,head.next.next.next.data)                                                "
   ]
  },
  {
   "cell_type": "code",
   "execution_count": null,
   "id": "2f7f2df9-591e-482f-a1fb-8247bd6bd4a9",
   "metadata": {},
   "outputs": [],
   "source": []
  }
 ],
 "metadata": {
  "kernelspec": {
   "display_name": "Python 3 (ipykernel)",
   "language": "python",
   "name": "python3"
  },
  "language_info": {
   "codemirror_mode": {
    "name": "ipython",
    "version": 3
   },
   "file_extension": ".py",
   "mimetype": "text/x-python",
   "name": "python",
   "nbconvert_exporter": "python",
   "pygments_lexer": "ipython3",
   "version": "3.12.3"
  }
 },
 "nbformat": 4,
 "nbformat_minor": 5
}
