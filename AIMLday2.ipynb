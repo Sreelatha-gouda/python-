{
 "cells": [
  {
   "cell_type": "code",
   "execution_count": 6,
   "id": "b11c8a83-d562-4ae6-980d-7f9fc1b8ad15",
   "metadata": {
    "scrolled": true
   },
   "outputs": [
    {
     "name": "stdin",
     "output_type": "stream",
     "text": [
      "enter your name sree\n",
      "enter your age: 10\n"
     ]
    },
    {
     "name": "stdout",
     "output_type": "stream",
     "text": [
      "sree\n",
      "you are not eligible\n"
     ]
    }
   ],
   "source": [
    "name=input(\"enter your name\")\n",
    "age=int(input(\"enter your age:\"))\n",
    "if age>=18:\n",
    "    print(name)\n",
    "    print(\"you are eligible\")\n",
    "else:\n",
    "    print(name)\n",
    "    print(\"you are not eligible\")\n"
   ]
  },
  {
   "cell_type": "code",
   "execution_count": 8,
   "id": "0884829e-e914-402a-9799-5850231b76aa",
   "metadata": {},
   "outputs": [
    {
     "name": "stdin",
     "output_type": "stream",
     "text": [
      " 4\n",
      " 5\n",
      " 7\n"
     ]
    },
    {
     "name": "stdout",
     "output_type": "stream",
     "text": [
      "c is largest\n"
     ]
    }
   ],
   "source": [
    "a=int(input())\n",
    "b=int(input())\n",
    "c=int(input())\n",
    "if a>b:\n",
    "    if a>c:\n",
    "        print(\"a is largest\")\n",
    "    else:\n",
    "        print(\"c is largest\")\n",
    "else:\n",
    "    if b>c:\n",
    "        print(\"b is largest\")\n",
    "    else:\n",
    "        print(\"c is largest\")\n"
   ]
  },
  {
   "cell_type": "code",
   "execution_count": 29,
   "id": "08bbdbe8-ae06-457e-b1f4-96a113f57017",
   "metadata": {},
   "outputs": [
    {
     "name": "stdin",
     "output_type": "stream",
     "text": [
      "enter the marks 101\n"
     ]
    },
    {
     "name": "stdout",
     "output_type": "stream",
     "text": [
      "invalid marks\n"
     ]
    }
   ],
   "source": [
    "marks=int(input(\"enter the marks\"))\n",
    "if marks>=90 and marks<100:\n",
    "    print(\"grade=A+\")\n",
    "else:\n",
    "    if marks>=80 and marks<90:\n",
    "        print(\"grade=A\")\n",
    "    else:\n",
    "        if marks>=70 and marks<80:\n",
    "            print(\"grade=B+\")\n",
    "        else:\n",
    "            if marks>=60 and marks<70:\n",
    "                print(\"grade=B\")\n",
    "            else:\n",
    "                if marks>=50 and marks<60:\n",
    "                    print(\"grade=C+\")\n",
    "                else:\n",
    "                    if marks>=40 and marks<50:\n",
    "                        print(\"grade=C\")\n",
    "                    else:\n",
    "                        if marks>=30 and marks<40:\n",
    "                            print(\"fail\")\n",
    "                        else:\n",
    "                            print(\"invalid marks\")        \n",
    "\n",
    "\n",
    "\n"
   ]
  },
  {
   "cell_type": "code",
   "execution_count": 15,
   "id": "60567cf6-146d-490d-9f6d-fdaa80b32171",
   "metadata": {},
   "outputs": [
    {
     "name": "stdin",
     "output_type": "stream",
     "text": [
      "enter the marks 65\n"
     ]
    },
    {
     "name": "stdout",
     "output_type": "stream",
     "text": [
      "grade=B\n"
     ]
    }
   ],
   "source": [
    "marks=int(input(\"enter the marks\"))\n",
    "if marks>=90 and marks<100:\n",
    "    print(\"grade=A+\")\n",
    "else:\n",
    "    if marks>=80 and marks<90:\n",
    "        print(\"grade=A\")\n",
    "    elif marks>=70 and marks<80:\n",
    "        print(\"grade=B+\")\n",
    "    elif marks>=60 and marks<70:\n",
    "        print(\"grade=B\")\n",
    "    elif marks>=50 and marks<60:\n",
    "         print(\"grade=C+\")\n",
    "    elif marks>=40 and marks<50:\n",
    "         print(\"grade=C\")\n",
    "    elif marks>=30 and marks<40:\n",
    "         print(\"fail\")\n",
    "    else:\n",
    "         print(\"invalid marks\")\n",
    "                            \n",
    "        \n",
    "\n",
    "\n"
   ]
  },
  {
   "cell_type": "code",
   "execution_count": 14,
   "id": "a3c86a40-fb9d-4da6-b3d3-1330f14fb124",
   "metadata": {},
   "outputs": [
    {
     "name": "stdin",
     "output_type": "stream",
     "text": [
      "enter the day number: 6\n"
     ]
    },
    {
     "name": "stdout",
     "output_type": "stream",
     "text": [
      "friday\n"
     ]
    }
   ],
   "source": [
    "day=int(input(\"enter the day number:\"))\n",
    "match day:\n",
    "    case 1:print(\"sunday\")\n",
    "    case 2:print(\"monday\")\n",
    "    case 3:print(\"tuesday\")\n",
    "    case 4:print(\"wednesday\")\n",
    "    case 5:print(\"thursday\")\n",
    "    case 6:print(\"friday\")\n",
    "    case 7:print(\"saturday\")\n",
    "    case _ if day == 10:\n",
    "            print(\"ten\")\n",
    "    case _ if day >=13 and day<=19:\n",
    "            print(\"teens\")\n",
    "    case _:print(\"invalid\") \n",
    "    "
   ]
  },
  {
   "cell_type": "code",
   "execution_count": 1,
   "id": "1e78b0f1-65fb-49da-9f09-9a1f66f5abbe",
   "metadata": {},
   "outputs": [
    {
     "name": "stdout",
     "output_type": "stream",
     "text": [
      "0\n",
      "1\n",
      "2\n",
      "3\n",
      "4\n",
      "5\n",
      "6\n",
      "7\n",
      "8\n",
      "9\n"
     ]
    }
   ],
   "source": [
    "for y in range(0,10):\n",
    "    print(y)\n",
    "    "
   ]
  },
  {
   "cell_type": "code",
   "execution_count": 10,
   "id": "7db83e38-9cea-42ff-b31a-38165333d417",
   "metadata": {},
   "outputs": [
    {
     "name": "stdout",
     "output_type": "stream",
     "text": [
      "*\n",
      "**\n",
      "***\n",
      "****\n",
      "*****\n",
      "******\n",
      "*******\n",
      "********\n",
      "*********\n",
      "**********\n"
     ]
    }
   ],
   "source": [
    " for y in range(0,10):\n",
    "     for x in range(0,y+1):\n",
    "         print(\"*\",end=\"\")\n",
    "     print()\n"
   ]
  },
  {
   "cell_type": "code",
   "execution_count": 22,
   "id": "4a211a5d-e040-4aa4-8ddf-5d402e07c9ad",
   "metadata": {},
   "outputs": [
    {
     "name": "stdin",
     "output_type": "stream",
     "text": [
      "enter the length of series: 10\n"
     ]
    },
    {
     "name": "stdout",
     "output_type": "stream",
     "text": [
      "0 1 1 2 3 5 8 13 21 34 "
     ]
    }
   ],
   "source": [
    "a=0\n",
    "b=1\n",
    "n=int(input(\"enter the length of series:\"))\n",
    "print(a,b,end=\" \")\n",
    "\n",
    "\n",
    "for x in range(0,n-2):\n",
    "    c=a+b\n",
    "    print(c,end=\" \") \n",
    "    a=b\n",
    "    b=c\n",
    "    \n",
    "        \n",
    "    \n",
    "\n"
   ]
  },
  {
   "cell_type": "code",
   "execution_count": null,
   "id": "0905b094-bd67-48dc-b0f8-c3e9bbf985be",
   "metadata": {},
   "outputs": [],
   "source": []
  }
 ],
 "metadata": {
  "kernelspec": {
   "display_name": "Python 3 (ipykernel)",
   "language": "python",
   "name": "python3"
  },
  "language_info": {
   "codemirror_mode": {
    "name": "ipython",
    "version": 3
   },
   "file_extension": ".py",
   "mimetype": "text/x-python",
   "name": "python",
   "nbconvert_exporter": "python",
   "pygments_lexer": "ipython3",
   "version": "3.12.3"
  }
 },
 "nbformat": 4,
 "nbformat_minor": 5
}
