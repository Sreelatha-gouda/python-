{
 "cells": [
  {
   "cell_type": "code",
   "execution_count": 5,
   "id": "23391186-ba5e-472e-a923-e15fcc618752",
   "metadata": {},
   "outputs": [
    {
     "name": "stdout",
     "output_type": "stream",
     "text": [
      "cannot add strings\n",
      "cannot add strings\n",
      "25\n"
     ]
    }
   ],
   "source": [
    "list=[1,2,'three',4,5,6,7,'eight']\n",
    "s=0\n",
    "for i in list:\n",
    "    try:\n",
    "        s+=i\n",
    "    except:\n",
    "          print('cannot add strings')\n",
    "    next\n",
    "print(s)"
   ]
  },
  {
   "cell_type": "code",
   "execution_count": 1,
   "id": "1278f935-868e-4118-97bb-657592a9461b",
   "metadata": {},
   "outputs": [
    {
     "name": "stdout",
     "output_type": "stream",
     "text": [
      "83.33333333333333\n"
     ]
    }
   ],
   "source": [
    "def calculate_average_grade(grades_dict):\n",
    "    try:\n",
    "        total_grade = sum(grades_dict.values())\n",
    "        num_students = len(grades_dict)\n",
    "        average_grade = total_grade / num_students\n",
    "        print(average_grade)\n",
    "    except ZeroDivisiorError:\n",
    "        print(\"the dictionary is empty. Cannot calculate average grade.\")\n",
    "        return none\n",
    "\n",
    "student_grades = {'alice':85, 'bob':90, 'charlie':75}\n",
    "average = calculate_average_grade(student_grades)\n",
    "                  "
   ]
  },
  {
   "cell_type": "code",
   "execution_count": null,
   "id": "23791358-7d2f-48ce-9422-6e8561010856",
   "metadata": {},
   "outputs": [],
   "source": []
  }
 ],
 "metadata": {
  "kernelspec": {
   "display_name": "Python 3 (ipykernel)",
   "language": "python",
   "name": "python3"
  },
  "language_info": {
   "codemirror_mode": {
    "name": "ipython",
    "version": 3
   },
   "file_extension": ".py",
   "mimetype": "text/x-python",
   "name": "python",
   "nbconvert_exporter": "python",
   "pygments_lexer": "ipython3",
   "version": "3.12.3"
  }
 },
 "nbformat": 4,
 "nbformat_minor": 5
}
