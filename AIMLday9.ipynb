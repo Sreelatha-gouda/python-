{
 "cells": [
  {
   "cell_type": "code",
   "execution_count": 6,
   "id": "6ce78629-2200-4747-b705-c9f546a6d736",
   "metadata": {},
   "outputs": [
    {
     "name": "stdout",
     "output_type": "stream",
     "text": [
      "reverse of the string is aidnI\n"
     ]
    }
   ],
   "source": [
    "#to reverse words in a given string\n",
    "def x(string):\n",
    "    return string[::-1]\n",
    "print(\"reverse of the string is\",x(\"India\"))\n",
    "\n",
    "    "
   ]
  },
  {
   "cell_type": "code",
   "execution_count": 7,
   "id": "b487915f-37ee-4fcb-8e02-62b39ca59065",
   "metadata": {},
   "outputs": [
    {
     "name": "stdin",
     "output_type": "stream",
     "text": [
      " qwert\n"
     ]
    },
    {
     "name": "stdout",
     "output_type": "stream",
     "text": [
      "t\n",
      "r\n",
      "e\n",
      "w\n",
      "q\n"
     ]
    }
   ],
   "source": [
    "a=input()\n",
    "for i in range(0,len(a)):\n",
    "    print(a[-1*(i+1)])"
   ]
  },
  {
   "cell_type": "code",
   "execution_count": 8,
   "id": "65bed548-8806-4d55-bce1-eba13343d319",
   "metadata": {},
   "outputs": [
    {
     "name": "stdin",
     "output_type": "stream",
     "text": [
      " this is a car\n"
     ]
    },
    {
     "name": "stdout",
     "output_type": "stream",
     "text": [
      "rac a si siht"
     ]
    }
   ],
   "source": [
    "a=input()\n",
    "s=[]\n",
    "for e in a:\n",
    "    s.append(e)\n",
    "\n",
    "while len(s)>0:\n",
    "    print(s.pop(),end=\"\")\n"
   ]
  },
  {
   "cell_type": "code",
   "execution_count": 14,
   "id": "2b0cae4d-03fe-458d-b06d-07b8f4fe1983",
   "metadata": {},
   "outputs": [
    {
     "name": "stdout",
     "output_type": "stream",
     "text": [
      "gardening love i\n"
     ]
    }
   ],
   "source": [
    "#to reverse words in a given string\n",
    "def reversewords(s):\n",
    "    words = s.split(' ')\n",
    "    reverse_str = ' '.join(reversed(words))\n",
    "    return reverse_str\n",
    "\n",
    "s1 = \"i love gardening\"\n",
    "print(reversewords(s1))\n",
    "    "
   ]
  },
  {
   "cell_type": "code",
   "execution_count": 12,
   "id": "f5eba707-2932-4369-a240-5bfd06c4afeb",
   "metadata": {},
   "outputs": [
    {
     "name": "stdin",
     "output_type": "stream",
     "text": [
      " I love India\n"
     ]
    },
    {
     "name": "stdout",
     "output_type": "stream",
     "text": [
      "12\n",
      "a\n",
      "11\n",
      "i\n",
      "10\n",
      "d\n",
      "9\n",
      "n\n",
      "8\n",
      "I\n",
      "7\n",
      " \n",
      "6\n",
      "e\n",
      "5\n",
      "v\n",
      "4\n",
      "o\n",
      "3\n",
      "l\n",
      "2\n",
      " \n",
      "1\n",
      "I\n"
     ]
    }
   ],
   "source": [
    "a=input()\n",
    "s=[]\n",
    "for e in a:\n",
    "    s.append(e)\n",
    "\n",
    "while len(s)>0:\n",
    "    print(len(s))\n",
    "    print(s.pop())\n"
   ]
  },
  {
   "cell_type": "code",
   "execution_count": 16,
   "id": "0528023e-3d9b-4888-8ba1-ba9518d4691e",
   "metadata": {},
   "outputs": [
    {
     "name": "stdin",
     "output_type": "stream",
     "text": [
      " this is a rose\n"
     ]
    },
    {
     "name": "stdout",
     "output_type": "stream",
     "text": [
      "rose a is this "
     ]
    }
   ],
   "source": [
    "a=input()\n",
    "s=[]\n",
    "for e in a.split():\n",
    "    s.append(e)\n",
    "\n",
    "while len(s)>0:\n",
    "    print(s.pop(),end=\" \")\n"
   ]
  },
  {
   "cell_type": "code",
   "execution_count": 29,
   "id": "f1d0abd8-bf33-411b-8d1d-930c76381c7e",
   "metadata": {},
   "outputs": [
    {
     "name": "stdin",
     "output_type": "stream",
     "text": [
      " (a+b)*c\n"
     ]
    },
    {
     "name": "stdout",
     "output_type": "stream",
     "text": [
      " ab+c*\n"
     ]
    }
   ],
   "source": [
    "def prec(e):\n",
    "    if e ==\"^\":\n",
    "        return 3\n",
    "    if e ==\"*\" or e ==\"/\":\n",
    "        return 2\n",
    "    if e ==\"+\" or e ==\"-\":\n",
    "        return 1\n",
    "    else:\n",
    "        return 0\n",
    "        \n",
    "def asoc(e):\n",
    "    if e== '^':\n",
    "        return 'R'\n",
    "    else:\n",
    "        return 'L'\n",
    "\n",
    "exp=input()\n",
    "s=[]\n",
    "result=\" \"\n",
    "for e in exp:\n",
    "    if e.isalnum():\n",
    "        result +=e\n",
    "    elif e == '(':\n",
    "        s.append(e)\n",
    "    elif e == ')':\n",
    "        while s[-1] != '(':\n",
    "            result +=s.pop()\n",
    "        s.pop()\n",
    "    else:\n",
    "        while s and prec(e)<=prec(s[-1]) and asoc(e)=='L':\n",
    "            result +=s.pop()\n",
    "        s.append(e)\n",
    "while s:\n",
    "    result +=s.pop()\n",
    "print(result)    \n",
    "    \n",
    "            "
   ]
  },
  {
   "cell_type": "markdown",
   "id": "06541a4a-946a-4d83-95b8-7a8d1d5648cf",
   "metadata": {},
   "source": [
    "in a arcade game,there is aking who got spelled by witch that whenever he eat he have to take care of what is sequence of his \n",
    "food intake\n",
    "if he eats similar food one after other it will cancel out the its effect and total energy was decreased.\n",
    "your task is to determine the total energy of the king after his meal\n",
    "\n",
    "example:\n",
    "[\"apple\",\"dal\",\"chapati\",\"rice\",\"apple\",\"apple\",\"dal\",\"rice\",\"dal\",\"chapati\",\"chapati\"]\n",
    "\n",
    "consider that energy released by each item will be same which is 1 unit\n",
    "\n",
    "so the total energy intake is 6 units as per above example.\n",
    "[\"apple\",\"dal\",\"chapati\",\"dal\",\"rice\",\"dal\"]\n",
    "\n",
    "write a code to find the energy stored by the king after have all the food."
   ]
  },
  {
   "cell_type": "code",
   "execution_count": 33,
   "id": "75b30bdd-750c-42a4-8502-984551444ab3",
   "metadata": {},
   "outputs": [
    {
     "name": "stdin",
     "output_type": "stream",
     "text": [
      " A D C R R A A D R D C C\n"
     ]
    },
    {
     "name": "stdout",
     "output_type": "stream",
     "text": [
      "['A', 'D', 'C', 'R', 'R', 'A', 'A', 'D', 'R', 'D', 'C', 'C']\n",
      "6 ['A', 'D', 'C', 'D', 'R', 'D']\n"
     ]
    }
   ],
   "source": [
    "a=[item for item in input().split()]\n",
    "print(a)\n",
    "s=[]\n",
    "for item in a:\n",
    "    if not s:\n",
    "        s.append(item)\n",
    "    elif s[-1] == item:\n",
    "        s.pop()\n",
    "    else: \n",
    "        s.append(item)\n",
    "\n",
    "print(len(s),s)\n"
   ]
  },
  {
   "cell_type": "code",
   "execution_count": 38,
   "id": "2ffe381a-f9e7-4cef-a66c-8fc651c7383f",
   "metadata": {},
   "outputs": [
    {
     "name": "stdin",
     "output_type": "stream",
     "text": [
      " ({}){{()}}\n"
     ]
    },
    {
     "name": "stdout",
     "output_type": "stream",
     "text": [
      "valid string\n"
     ]
    }
   ],
   "source": [
    "s=input()\n",
    "s=[]\n",
    "for e in s:\n",
    "    if e=='(' or e=='{' or e=='[':\n",
    "        s.append(e)\n",
    "    elif(e ==')' and s[-1]=='(') or (e=='}' and s[-1]=='{') or (e==']' and s[-1]=='['):\n",
    "        if e==s[-1]:\n",
    "           s.pop()\n",
    "        else:  \n",
    "           break;\n",
    "    else:\n",
    "        continue\n",
    "\n",
    "\n",
    "if not s:\n",
    "    print(\"valid string\")\n",
    "else:\n",
    "    print(\"invalid string\")\n",
    "     "
   ]
  },
  {
   "cell_type": "code",
   "execution_count": 46,
   "id": "52784e1b-09b6-4640-a4e4-39008a952541",
   "metadata": {},
   "outputs": [
    {
     "name": "stdout",
     "output_type": "stream",
     "text": [
      "5\n",
      "4\n",
      "3\n",
      "2\n",
      "1\n"
     ]
    },
    {
     "data": {
      "text/plain": [
       "0"
      ]
     },
     "execution_count": 46,
     "metadata": {},
     "output_type": "execute_result"
    }
   ],
   "source": [
    "#recurrsion\n",
    "def fun(x):\n",
    "    if x==0: #base class\n",
    "        return x #base class\n",
    "    print (x) #body of recurrsion\n",
    "    return fun(x-1)\n",
    "fun(5)"
   ]
  },
  {
   "cell_type": "code",
   "execution_count": null,
   "id": "f6b4198c-aae4-4853-ab0b-9f2ade7314e9",
   "metadata": {},
   "outputs": [],
   "source": []
  }
 ],
 "metadata": {
  "kernelspec": {
   "display_name": "Python 3 (ipykernel)",
   "language": "python",
   "name": "python3"
  },
  "language_info": {
   "codemirror_mode": {
    "name": "ipython",
    "version": 3
   },
   "file_extension": ".py",
   "mimetype": "text/x-python",
   "name": "python",
   "nbconvert_exporter": "python",
   "pygments_lexer": "ipython3",
   "version": "3.12.3"
  }
 },
 "nbformat": 4,
 "nbformat_minor": 5
}
