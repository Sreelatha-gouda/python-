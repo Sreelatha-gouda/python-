{
 "cells": [
  {
   "cell_type": "code",
   "execution_count": 6,
   "id": "f050fddd-6ecc-4019-acee-baaf8a013857",
   "metadata": {},
   "outputs": [
    {
     "name": "stdout",
     "output_type": "stream",
     "text": [
      "1\n",
      "2\n",
      "3\n",
      "4.5\n",
      "6\n"
     ]
    }
   ],
   "source": [
    "a=[1,2,3,4.5,6,7]\n",
    "for x in range(0,5):\n",
    "    print(a[x])#a is an arrayname while x is index\n",
    "           \n"
   ]
  },
  {
   "cell_type": "code",
   "execution_count": 4,
   "id": "5ff31361-6233-4dbd-bdc9-5d23b2147dac",
   "metadata": {},
   "outputs": [
    {
     "name": "stdout",
     "output_type": "stream",
     "text": [
      "[1, 2, 3, 4, 5]\n",
      "4\n",
      "[1, 2, 3, 5]\n",
      "[1, 2, 3, 5, 10]\n",
      "[1, 2, 3, 5, 10, 3, 7, 3]\n",
      "2\n",
      "3\n",
      "1\n",
      "[1, 2, 3, 5, 9, 10, 3, 7, 3]\n",
      "[1, 2, 3, 3, 3, 5, 7, 9, 10]\n",
      "[10, 9, 7, 5, 3, 3, 3, 2, 1]\n",
      "9\n",
      "[10, 9, 7, 5, 3, 3, 3, 2, 1, 1, 2, 3, 4, 5]\n",
      "[10, 9, 7, 5, 3, 3, 3, 2, 1, 1, 2, 3, 4, 5, 1, 2, 3, 4, 5]\n"
     ]
    }
   ],
   "source": [
    "a=[1,2,3,4,5]\n",
    "b=a.copy()\n",
    "print(b)\n",
    "\n",
    "c=b.pop(3)\n",
    "print(c)\n",
    "\n",
    "b.append(10)\n",
    "print(b)\n",
    "b.append(3)\n",
    "b.append(7)\n",
    "b.append(3)\n",
    "print(b)\n",
    "\n",
    "print(b.index(3))\n",
    "\n",
    "print(b.count(3))\n",
    "print(b.count(10))\n",
    "\n",
    "b.insert(4,9)\n",
    "print(b)\n",
    "\n",
    "b.sort()\n",
    "print(b)\n",
    "b.sort(reverse=True)\n",
    "print(b)\n",
    "\n",
    "print(len(b))\n",
    "\n",
    "b.extend(a)\n",
    "print(b)\n",
    "print(b+a)"
   ]
  },
  {
   "cell_type": "code",
   "execution_count": 5,
   "id": "5bec2d2e-3e68-4ded-a648-f41b16f2434d",
   "metadata": {},
   "outputs": [
    {
     "name": "stdout",
     "output_type": "stream",
     "text": [
      "10\n",
      "9\n",
      "7\n",
      "5\n",
      "3\n",
      "3\n",
      "3\n",
      "2\n",
      "1\n",
      "1\n",
      "2\n",
      "3\n",
      "4\n",
      "5\n",
      "1\n",
      "2\n",
      "3\n",
      "4\n",
      "5\n"
     ]
    }
   ],
   "source": [
    "a=[10, 9, 7, 5, 3, 3, 3, 2, 1, 1, 2, 3, 4, 5, 1, 2, 3, 4, 5]\n",
    "for x in a:\n",
    "    print(x)"
   ]
  },
  {
   "cell_type": "code",
   "execution_count": 10,
   "id": "dab1bba2-725c-416f-be3a-42dc652ec997",
   "metadata": {},
   "outputs": [
    {
     "name": "stdin",
     "output_type": "stream",
     "text": [
      "enter the elements of the list: 1 2 3 4 5 6 7\n"
     ]
    },
    {
     "name": "stdout",
     "output_type": "stream",
     "text": [
      "['1', '2', '3', '4', '5', '6', '7']\n"
     ]
    }
   ],
   "source": [
    "L = [item for item in (input(\"enter the elements of the list:\").split())]\n",
    "print(L)"
   ]
  },
  {
   "cell_type": "code",
   "execution_count": 11,
   "id": "c067efa3-09e0-4a66-aff2-a42eae67a526",
   "metadata": {},
   "outputs": [
    {
     "name": "stdin",
     "output_type": "stream",
     "text": [
      "enter the elements of the list: 1 2 3 4 5 6 7\n"
     ]
    },
    {
     "name": "stdout",
     "output_type": "stream",
     "text": [
      "[1, 2, 3, 4, 5, 6, 7]\n"
     ]
    }
   ],
   "source": [
    "L = [int (item) for item in (input(\"enter the elements of the list:\").split())]\n",
    "print(L)"
   ]
  },
  {
   "cell_type": "code",
   "execution_count": 2,
   "id": "b3e58d0d-36ac-4cff-a385-dfb40f6b94e0",
   "metadata": {},
   "outputs": [
    {
     "name": "stdout",
     "output_type": "stream",
     "text": [
      "(1, 2, 3, 4, 5, 'sree')\n",
      "[1, 2, 3, 4, 5, 'sree']\n",
      "(1, 2, 3, 4, 5, 'latha')\n",
      "9\n",
      "8\n",
      "7\n",
      "6\n",
      "5\n",
      "4\n",
      "3\n",
      "2\n",
      "1\n"
     ]
    }
   ],
   "source": [
    "#tupple (unable to update it)(for data security we use the tupples)\n",
    "a=(1,2,3,4,5,\"sree\")\n",
    "print(a)\n",
    "b=list(a)\n",
    "print(b)\n",
    "b[5]=\"latha\"\n",
    "a=tuple(b)\n",
    "print(a)\n",
    "a=(1,2,3,4,5,6,7,8,9)\n",
    "for x in range(-1,-1*(len(a)+1),-1):\n",
    "    print(a[x])"
   ]
  },
  {
   "cell_type": "code",
   "execution_count": 12,
   "id": "587bdae0-d8c9-4e08-abe2-fd0629af9c99",
   "metadata": {},
   "outputs": [],
   "source": [
    "#write a code to reverse the list\n",
    "a=(1,2,3,4,5)\n",
    "for x in range(len(a),0-1):\n",
    "    print(a)"
   ]
  },
  {
   "cell_type": "code",
   "execution_count": 3,
   "id": "c596281d-c7fa-42e3-bbb6-9ccdd09c09b5",
   "metadata": {},
   "outputs": [
    {
     "name": "stdout",
     "output_type": "stream",
     "text": [
      "9\n",
      "8\n",
      "7\n",
      "6\n",
      "5\n",
      "4\n",
      "3\n",
      "2\n",
      "1\n"
     ]
    }
   ],
   "source": [
    "a=(1,2,3,4,5,6,7,8,9)\n",
    "for x in range(0,len(a)):\n",
    "    print(a[-1*(x+1)])"
   ]
  },
  {
   "cell_type": "markdown",
   "id": "3911865f-299e-424c-b200-b3fb15e0ab96",
   "metadata": {},
   "source": [
    "dictionary\n",
    "key and values\n",
    "key values pair\n",
    "we use{} in dictionary\n",
    "only key has the significance"
   ]
  },
  {
   "cell_type": "code",
   "execution_count": 15,
   "id": "20763dab-ed08-427d-abc3-c5c8076f9159",
   "metadata": {},
   "outputs": [
    {
     "name": "stdout",
     "output_type": "stream",
     "text": [
      "{1: 'sree', 2: 'latha', 3: 'sree'}\n",
      "latha\n",
      "dict_keys([1, 2, 3])\n",
      "dict_values(['sree', 'latha', 'sree'])\n",
      "dict_items([(1, 'sree'), (2, 'latha'), (3, 'sree')])\n",
      "None\n"
     ]
    }
   ],
   "source": [
    "D={1:\"sree\",2:\"latha\",3:\"sree\"}\n",
    "print(D)\n",
    "we have \n",
    "print(D[2])\n",
    "print(D.keys())\n",
    "print(D.values())\n",
    "print(D.items())\n",
    "\n",
    "print(D.get(4))"
   ]
  },
  {
   "cell_type": "markdown",
   "id": "b239e697-bfc5-4577-85c7-316aa3b7da9e",
   "metadata": {},
   "source": [
    "in exception we use\n",
    "try block(test the block of code)\n",
    "else(execute the code when there is no error)\n",
    "except(handles the error)\n",
    "finally(it will execute whether there is error or not)"
   ]
  },
  {
   "cell_type": "code",
   "execution_count": 23,
   "id": "1ab9ae0d-3efd-477e-a51d-c9391c0bfb8d",
   "metadata": {},
   "outputs": [
    {
     "name": "stdin",
     "output_type": "stream",
     "text": [
      " 4\n",
      " 5\n"
     ]
    },
    {
     "name": "stdout",
     "output_type": "stream",
     "text": [
      "0.8\n",
      "division successful:\n",
      "0.8\n",
      "error handlled:\n",
      "we have recieved the result as: 0.8\n"
     ]
    }
   ],
   "source": [
    "a=int(input())\n",
    "b=int(input())\n",
    "c=a/b\n",
    "\n",
    "try:\n",
    "    print(c)\n",
    "except:\n",
    "     print(\"we can't divide:\")\n",
    "else:\n",
    "    print(\"division successful:\")\n",
    "    print(c)\n",
    "finally:\n",
    "    print(\"error handlled:\")\n",
    "\n",
    "print(\"we have recieved the result as:\",c)"
   ]
  },
  {
   "cell_type": "code",
   "execution_count": 22,
   "id": "a417099f-df20-452a-b8b2-1fdb69682853",
   "metadata": {},
   "outputs": [
    {
     "name": "stdin",
     "output_type": "stream",
     "text": [
      "enter the index number: 11\n"
     ]
    },
    {
     "name": "stdout",
     "output_type": "stream",
     "text": [
      "there is no such index:\n"
     ]
    }
   ],
   "source": [
    "a=[1,2,3,4,5,6,7,8,9,10]\n",
    "b=int(input(\"enter the index number:\"))\n",
    "try:\n",
    "    print(a[b])\n",
    "except:\n",
    "    print(\"there is no such index:\")\n",
    "\n",
    "\n",
    "\n",
    "    \n",
    "      \n",
    "    "
   ]
  },
  {
   "cell_type": "code",
   "execution_count": 34,
   "id": "b10849f5-b858-4f1e-a991-f6eaf4b9f82a",
   "metadata": {},
   "outputs": [
    {
     "name": "stdin",
     "output_type": "stream",
     "text": [
      " 5\n",
      " 0\n"
     ]
    },
    {
     "name": "stdout",
     "output_type": "stream",
     "text": [
      "can't divide by zero\n",
      "code execution done\n"
     ]
    }
   ],
   "source": [
    "try:\n",
    "    a=input()\n",
    "    b=input()\n",
    "    c=int(a)/int(b)\n",
    "    x=\"hello\"/3\n",
    "except ValueError:\n",
    "    print(\"value unable to convert\")\n",
    "except ZeroDivisionError:\n",
    "    print(\"can't divide by zero\")\n",
    "except:\n",
    "    print(\"some unknown error found\")\n",
    "else:\n",
    "    print(\"no error\")\n",
    "finally:\n",
    "    print(\"code execution done\")"
   ]
  },
  {
   "cell_type": "code",
   "execution_count": null,
   "id": "0ce9ad24-11c8-4641-b03a-1e9a06afc549",
   "metadata": {},
   "outputs": [],
   "source": []
  }
 ],
 "metadata": {
  "kernelspec": {
   "display_name": "Python 3 (ipykernel)",
   "language": "python",
   "name": "python3"
  },
  "language_info": {
   "codemirror_mode": {
    "name": "ipython",
    "version": 3
   },
   "file_extension": ".py",
   "mimetype": "text/x-python",
   "name": "python",
   "nbconvert_exporter": "python",
   "pygments_lexer": "ipython3",
   "version": "3.12.3"
  }
 },
 "nbformat": 4,
 "nbformat_minor": 5
}
